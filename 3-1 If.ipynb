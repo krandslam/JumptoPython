{
  "nbformat": 4,
  "nbformat_minor": 0,
  "metadata": {
    "colab": {
      "provenance": []
    },
    "kernelspec": {
      "name": "python3",
      "display_name": "Python 3"
    },
    "language_info": {
      "name": "python"
    }
  },
  "cells": [
    {
      "cell_type": "code",
      "execution_count": 1,
      "metadata": {
        "colab": {
          "base_uri": "https://localhost:8080/"
        },
        "id": "wo7kmDEmnMeT",
        "outputId": "cd1ea2d7-5aa6-43ed-9fd4-4540c8c120df"
      },
      "outputs": [
        {
          "output_type": "stream",
          "name": "stdout",
          "text": [
            "take a taxi\n"
          ]
        }
      ],
      "source": [
        "# indentation required\n",
        "money = True\n",
        "if money:\n",
        "  print(\"take a taxi\")\n",
        "else:\n",
        "  print(\"walk\")"
      ]
    },
    {
      "cell_type": "code",
      "source": [
        "x = 3\n",
        "y = 2\n",
        "x > y"
      ],
      "metadata": {
        "colab": {
          "base_uri": "https://localhost:8080/"
        },
        "id": "autOAM-Bnwrd",
        "outputId": "5efb9b4f-27a9-4a06-be14-63c9106fafee"
      },
      "execution_count": 2,
      "outputs": [
        {
          "output_type": "execute_result",
          "data": {
            "text/plain": [
              "True"
            ]
          },
          "metadata": {},
          "execution_count": 2
        }
      ]
    },
    {
      "cell_type": "code",
      "source": [
        "x < y"
      ],
      "metadata": {
        "colab": {
          "base_uri": "https://localhost:8080/"
        },
        "id": "YXytdLgQn2tu",
        "outputId": "01680afe-c15a-4c83-9900-df36e33fce15"
      },
      "execution_count": 3,
      "outputs": [
        {
          "output_type": "execute_result",
          "data": {
            "text/plain": [
              "False"
            ]
          },
          "metadata": {},
          "execution_count": 3
        }
      ]
    },
    {
      "cell_type": "code",
      "source": [
        "x == y"
      ],
      "metadata": {
        "colab": {
          "base_uri": "https://localhost:8080/"
        },
        "id": "aB1SkwQan24f",
        "outputId": "1e4fa55e-bbee-48b0-a994-97854087f48b"
      },
      "execution_count": 4,
      "outputs": [
        {
          "output_type": "execute_result",
          "data": {
            "text/plain": [
              "False"
            ]
          },
          "metadata": {},
          "execution_count": 4
        }
      ]
    },
    {
      "cell_type": "code",
      "source": [
        "x != y"
      ],
      "metadata": {
        "colab": {
          "base_uri": "https://localhost:8080/"
        },
        "id": "s2RU7eSOn2_U",
        "outputId": "ae116a6e-3fc7-42bb-81a7-42cd48d7c839"
      },
      "execution_count": 5,
      "outputs": [
        {
          "output_type": "execute_result",
          "data": {
            "text/plain": [
              "True"
            ]
          },
          "metadata": {},
          "execution_count": 5
        }
      ]
    },
    {
      "cell_type": "code",
      "source": [
        "money = 2000\n",
        "if money >= 3000:\n",
        "  print(\"take a taxi\")\n",
        "else:\n",
        "  print(\"walk\")"
      ],
      "metadata": {
        "colab": {
          "base_uri": "https://localhost:8080/"
        },
        "id": "Tk_mj2QWn8vb",
        "outputId": "5331f303-c832-453e-d90d-c7c99a4640ca"
      },
      "execution_count": 6,
      "outputs": [
        {
          "output_type": "stream",
          "name": "stdout",
          "text": [
            "walk\n"
          ]
        }
      ]
    },
    {
      "cell_type": "code",
      "source": [
        "money = 2000\n",
        "card = True\n",
        "if money >= 3000 or card:\n",
        "  print(\"take a taxi\")\n",
        "else:\n",
        "  print(\"walk\")"
      ],
      "metadata": {
        "colab": {
          "base_uri": "https://localhost:8080/"
        },
        "id": "5U7dbtRDn9F_",
        "outputId": "f9c7c508-9f3f-44bf-b74c-0d3679973212"
      },
      "execution_count": 7,
      "outputs": [
        {
          "output_type": "stream",
          "name": "stdout",
          "text": [
            "take a taxi\n"
          ]
        }
      ]
    },
    {
      "cell_type": "code",
      "source": [
        "1 in [1,2,3]"
      ],
      "metadata": {
        "colab": {
          "base_uri": "https://localhost:8080/"
        },
        "id": "nl5TleQqn9Nn",
        "outputId": "98b62d89-2443-4319-8ac8-6fd530d9bee1"
      },
      "execution_count": 8,
      "outputs": [
        {
          "output_type": "execute_result",
          "data": {
            "text/plain": [
              "True"
            ]
          },
          "metadata": {},
          "execution_count": 8
        }
      ]
    },
    {
      "cell_type": "code",
      "source": [
        "1 not in [1,2,3]"
      ],
      "metadata": {
        "colab": {
          "base_uri": "https://localhost:8080/"
        },
        "id": "uG_HFg37n9UO",
        "outputId": "b86ccf16-112e-4994-ef09-210c081ce5b6"
      },
      "execution_count": 9,
      "outputs": [
        {
          "output_type": "execute_result",
          "data": {
            "text/plain": [
              "False"
            ]
          },
          "metadata": {},
          "execution_count": 9
        }
      ]
    },
    {
      "cell_type": "code",
      "source": [
        "'a' in ('a','b','c')"
      ],
      "metadata": {
        "colab": {
          "base_uri": "https://localhost:8080/"
        },
        "id": "sGMPDIzIn9ae",
        "outputId": "ae5f4680-b03b-4c8b-dfa1-a750d439829f"
      },
      "execution_count": 10,
      "outputs": [
        {
          "output_type": "execute_result",
          "data": {
            "text/plain": [
              "True"
            ]
          },
          "metadata": {},
          "execution_count": 10
        }
      ]
    },
    {
      "cell_type": "code",
      "source": [
        "'j' not in 'python'"
      ],
      "metadata": {
        "colab": {
          "base_uri": "https://localhost:8080/"
        },
        "id": "8gVFd2eSn9fk",
        "outputId": "96a2814a-3d49-4e3e-fde5-b8b0838fa48a"
      },
      "execution_count": 11,
      "outputs": [
        {
          "output_type": "execute_result",
          "data": {
            "text/plain": [
              "True"
            ]
          },
          "metadata": {},
          "execution_count": 11
        }
      ]
    },
    {
      "cell_type": "code",
      "source": [
        "pocket = ['paper','cellphone','money']\n",
        "if 'money' in pocket:\n",
        "  print(\"take a taxi\")\n",
        "else:\n",
        "  print(\"walk\")"
      ],
      "metadata": {
        "colab": {
          "base_uri": "https://localhost:8080/"
        },
        "id": "T4R1bodeohr6",
        "outputId": "a0aba2d4-6e58-42cd-f01a-182390a6d857"
      },
      "execution_count": 12,
      "outputs": [
        {
          "output_type": "stream",
          "name": "stdout",
          "text": [
            "take a taxi\n"
          ]
        }
      ]
    },
    {
      "cell_type": "code",
      "source": [
        "# want to do nothing when if loop is true\n",
        "pocket = ['paper','cellphone','money']\n",
        "if 'money' in pocket:\n",
        "  pass\n",
        "else:\n",
        "  print(\"walk\")"
      ],
      "metadata": {
        "id": "9g26ZDpFohz7"
      },
      "execution_count": 13,
      "outputs": []
    },
    {
      "cell_type": "code",
      "source": [
        "# elseif = elif\n",
        "pocket = ['paper','cellphone']\n",
        "card = True\n",
        "if 'money' in pocket:\n",
        "  print(\"take a taxi\")\n",
        "elif card:\n",
        "  print(\"take a taxi\")\n",
        "else:\n",
        "  print(\"walk\")"
      ],
      "metadata": {
        "colab": {
          "base_uri": "https://localhost:8080/"
        },
        "id": "TK6fHI1toh6U",
        "outputId": "dcfe1db4-f77c-4cfb-f2da-f22c70e0307f"
      },
      "execution_count": 14,
      "outputs": [
        {
          "output_type": "stream",
          "name": "stdout",
          "text": [
            "take a taxi\n"
          ]
        }
      ]
    },
    {
      "cell_type": "code",
      "source": [
        "# abbreviate version\n",
        "pocket = ['paper','cellphone','money']\n",
        "if 'money' in pocket: pass\n",
        "else: print(\"walk\")"
      ],
      "metadata": {
        "id": "CStNEEg6oh_z"
      },
      "execution_count": 15,
      "outputs": []
    },
    {
      "cell_type": "code",
      "source": [
        "score = 61\n",
        "if score >= 60:\n",
        "  message = \"success\"\n",
        "else:\n",
        "  message = \"failure\""
      ],
      "metadata": {
        "id": "vl3ewKZOoiEz"
      },
      "execution_count": 16,
      "outputs": []
    },
    {
      "cell_type": "code",
      "source": [
        "# same thing of above\n",
        "message = \"success\" if score >= 60 else \"failure\""
      ],
      "metadata": {
        "id": "4W6FXVyeoiIt"
      },
      "execution_count": 17,
      "outputs": []
    }
  ]
}