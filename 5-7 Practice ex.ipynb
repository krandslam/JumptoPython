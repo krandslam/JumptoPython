{
  "nbformat": 4,
  "nbformat_minor": 0,
  "metadata": {
    "colab": {
      "provenance": []
    },
    "kernelspec": {
      "name": "python3",
      "display_name": "Python 3"
    },
    "language_info": {
      "name": "python"
    }
  },
  "cells": [
    {
      "cell_type": "code",
      "execution_count": 1,
      "metadata": {
        "id": "jEWLgLOs3nHs"
      },
      "outputs": [],
      "source": [
        "# Q1\n",
        "class Calculator:\n",
        "  def __init__(self):\n",
        "    self.value = 0\n",
        "  \n",
        "  def add(self,val):\n",
        "    self.value += val"
      ]
    },
    {
      "cell_type": "code",
      "source": [
        "class UpgradeCalculator(Calculator):\n",
        "  def minus(self,val):\n",
        "    self.value -= val"
      ],
      "metadata": {
        "id": "zuGK2R1O4HOi"
      },
      "execution_count": 2,
      "outputs": []
    },
    {
      "cell_type": "code",
      "source": [
        "cal = UpgradeCalculator()\n",
        "cal.add(10)\n",
        "cal.minus(7)\n",
        "\n",
        "print(cal.value)"
      ],
      "metadata": {
        "colab": {
          "base_uri": "https://localhost:8080/"
        },
        "id": "t8eRBOg84HTi",
        "outputId": "ca1c6e29-6414-4e21-b025-a8da877501bc"
      },
      "execution_count": 3,
      "outputs": [
        {
          "output_type": "stream",
          "name": "stdout",
          "text": [
            "3\n"
          ]
        }
      ]
    },
    {
      "cell_type": "code",
      "source": [
        "# Q2\n",
        "class MaxLimitCalculator(Calculator):\n",
        "  def add(self,val):\n",
        "    self.value += val\n",
        "    if (self.value > 100):\n",
        "      self.value = 100"
      ],
      "metadata": {
        "id": "srYVMseW4HWk"
      },
      "execution_count": 13,
      "outputs": []
    },
    {
      "cell_type": "code",
      "source": [
        "cal = MaxLimitCalculator()\n",
        "cal.add(50)\n",
        "cal.add(60)\n",
        "\n",
        "print(cal.value)"
      ],
      "metadata": {
        "colab": {
          "base_uri": "https://localhost:8080/"
        },
        "id": "SzMp1DbW4HZi",
        "outputId": "23e31789-a3c8-4e02-cce1-d3baf3e0088a"
      },
      "execution_count": 14,
      "outputs": [
        {
          "output_type": "stream",
          "name": "stdout",
          "text": [
            "100\n"
          ]
        }
      ]
    },
    {
      "cell_type": "code",
      "source": [
        "# Q3\n",
        "all([1,2,abs(-3)-3]) # if all true -> true"
      ],
      "metadata": {
        "colab": {
          "base_uri": "https://localhost:8080/"
        },
        "id": "fTHEy7t34Hc0",
        "outputId": "0e32186e-81f0-4b84-a3ca-4b74148dd3cf"
      },
      "execution_count": 16,
      "outputs": [
        {
          "output_type": "execute_result",
          "data": {
            "text/plain": [
              "False"
            ]
          },
          "metadata": {},
          "execution_count": 16
        }
      ]
    },
    {
      "cell_type": "code",
      "source": [
        "chr(ord('a')) == 'a' # ord returns uni code (opposite of chr)"
      ],
      "metadata": {
        "colab": {
          "base_uri": "https://localhost:8080/"
        },
        "id": "N73W8dHk4Hfy",
        "outputId": "8cfb9d5f-15a8-4a16-dc82-9923669ac57d"
      },
      "execution_count": 17,
      "outputs": [
        {
          "output_type": "execute_result",
          "data": {
            "text/plain": [
              "True"
            ]
          },
          "metadata": {},
          "execution_count": 17
        }
      ]
    },
    {
      "cell_type": "code",
      "source": [
        "# Q4\n",
        "list(filter(lambda x: x >= 0, [1,-2,3,-5,8,-3]))"
      ],
      "metadata": {
        "colab": {
          "base_uri": "https://localhost:8080/"
        },
        "id": "nGn9R2KZ4HjD",
        "outputId": "903606f9-f6aa-4b17-f43e-c51178cceaf1"
      },
      "execution_count": 18,
      "outputs": [
        {
          "output_type": "execute_result",
          "data": {
            "text/plain": [
              "[1, 3, 8]"
            ]
          },
          "metadata": {},
          "execution_count": 18
        }
      ]
    },
    {
      "cell_type": "code",
      "source": [
        "# Q5\n",
        "int(\"0xea\",16)"
      ],
      "metadata": {
        "colab": {
          "base_uri": "https://localhost:8080/"
        },
        "id": "wZkNWlQU4HmD",
        "outputId": "71d314ea-37e2-49c0-af5a-f5879d7c11c8"
      },
      "execution_count": 19,
      "outputs": [
        {
          "output_type": "execute_result",
          "data": {
            "text/plain": [
              "234"
            ]
          },
          "metadata": {},
          "execution_count": 19
        }
      ]
    },
    {
      "cell_type": "code",
      "source": [
        "# Q6\n",
        "list(map(lambda x: x * 3, [1,2,3,4]))"
      ],
      "metadata": {
        "colab": {
          "base_uri": "https://localhost:8080/"
        },
        "id": "Gi96A6jj4HpN",
        "outputId": "126c018e-f0f1-4abf-930f-2c93d78b212b"
      },
      "execution_count": 22,
      "outputs": [
        {
          "output_type": "execute_result",
          "data": {
            "text/plain": [
              "[3, 6, 9, 12]"
            ]
          },
          "metadata": {},
          "execution_count": 22
        }
      ]
    },
    {
      "cell_type": "code",
      "source": [
        "# Q7\n",
        "a = [-8,2,7,5,-3,5,0,1]\n",
        "max(a) + min(a)"
      ],
      "metadata": {
        "colab": {
          "base_uri": "https://localhost:8080/"
        },
        "id": "wViuXVGr4HsM",
        "outputId": "dbbff40c-158e-485b-c60a-ea5bf8d77535"
      },
      "execution_count": 23,
      "outputs": [
        {
          "output_type": "execute_result",
          "data": {
            "text/plain": [
              "-1"
            ]
          },
          "metadata": {},
          "execution_count": 23
        }
      ]
    },
    {
      "cell_type": "code",
      "source": [
        "# Q8\n",
        "17/3"
      ],
      "metadata": {
        "colab": {
          "base_uri": "https://localhost:8080/"
        },
        "id": "DDiCA8gM4Hvb",
        "outputId": "afb40de3-2852-4155-f152-01125377b281"
      },
      "execution_count": 24,
      "outputs": [
        {
          "output_type": "execute_result",
          "data": {
            "text/plain": [
              "5.666666666666667"
            ]
          },
          "metadata": {},
          "execution_count": 24
        }
      ]
    },
    {
      "cell_type": "code",
      "source": [
        "round(17/3,4)"
      ],
      "metadata": {
        "colab": {
          "base_uri": "https://localhost:8080/"
        },
        "id": "qpMKo0KB4Hyi",
        "outputId": "61cc7f3f-79bb-4268-e9ef-7a0a1f14f971"
      },
      "execution_count": 25,
      "outputs": [
        {
          "output_type": "execute_result",
          "data": {
            "text/plain": [
              "5.6667"
            ]
          },
          "metadata": {},
          "execution_count": 25
        }
      ]
    },
    {
      "cell_type": "code",
      "source": [
        "# Q9\n",
        "!python myargv.py 1 2 3 4 5 6 7 8 9 10"
      ],
      "metadata": {
        "colab": {
          "base_uri": "https://localhost:8080/"
        },
        "id": "4k3e6Ui54H1-",
        "outputId": "29ae9ae1-7269-4c36-dabb-f90cf72357e4"
      },
      "execution_count": 39,
      "outputs": [
        {
          "output_type": "stream",
          "name": "stdout",
          "text": [
            "55\n"
          ]
        }
      ]
    },
    {
      "cell_type": "code",
      "source": [
        "# myargv.py\n",
        "# import sys\n",
        "# result = 0\n",
        "\n",
        "## or numbers = sys.argv[1:] \n",
        "\n",
        "# for i in range(1,len(sys.argv)):\n",
        "#   result += int(sys.argv[i])\n",
        "\n",
        "# print(result)"
      ],
      "metadata": {
        "id": "racLXPc44H48"
      },
      "execution_count": 40,
      "outputs": []
    },
    {
      "cell_type": "code",
      "source": [
        "# Q10\n",
        "import os\n",
        "os.chdir(\"/content/drive\")"
      ],
      "metadata": {
        "id": "YgKoAYF34H8F"
      },
      "execution_count": 42,
      "outputs": []
    },
    {
      "cell_type": "code",
      "source": [
        "os.getcwd()"
      ],
      "metadata": {
        "colab": {
          "base_uri": "https://localhost:8080/",
          "height": 35
        },
        "id": "SXdH2XVNF4pY",
        "outputId": "76a0688b-d2e8-4901-a746-85d27253abe7"
      },
      "execution_count": 43,
      "outputs": [
        {
          "output_type": "execute_result",
          "data": {
            "text/plain": [
              "'/content/drive'"
            ],
            "application/vnd.google.colaboratory.intrinsic+json": {
              "type": "string"
            }
          },
          "metadata": {},
          "execution_count": 43
        }
      ]
    },
    {
      "cell_type": "code",
      "source": [
        "f = os.popen(\"dir\")"
      ],
      "metadata": {
        "id": "gFaoXFzzF4z_"
      },
      "execution_count": 47,
      "outputs": []
    },
    {
      "cell_type": "code",
      "source": [
        "print(f.read())"
      ],
      "metadata": {
        "colab": {
          "base_uri": "https://localhost:8080/"
        },
        "id": "47wKLQHuF44b",
        "outputId": "d6639d65-f8ca-4d13-c188-d458ae52065a"
      },
      "execution_count": 48,
      "outputs": [
        {
          "output_type": "stream",
          "name": "stdout",
          "text": [
            "MyDrive\n",
            "\n"
          ]
        }
      ]
    },
    {
      "cell_type": "code",
      "source": [
        "# Q11\n",
        "import glob\n",
        "glob.glob(\"/content/*.py\")"
      ],
      "metadata": {
        "colab": {
          "base_uri": "https://localhost:8080/"
        },
        "id": "c_XohtFtF49A",
        "outputId": "ca778835-60da-4ebf-b6c9-a41c39b5bc19"
      },
      "execution_count": 49,
      "outputs": [
        {
          "output_type": "execute_result",
          "data": {
            "text/plain": [
              "['/content/myargv.py']"
            ]
          },
          "metadata": {},
          "execution_count": 49
        }
      ]
    },
    {
      "cell_type": "code",
      "source": [
        "# Q12\n",
        "import time\n",
        "time.strftime('%Y/%m/%d %X', time.localtime(time.time()))"
      ],
      "metadata": {
        "colab": {
          "base_uri": "https://localhost:8080/",
          "height": 35
        },
        "id": "VHdpx-scF5A0",
        "outputId": "f6286826-5750-4f43-9996-232f115c96c3"
      },
      "execution_count": 56,
      "outputs": [
        {
          "output_type": "execute_result",
          "data": {
            "text/plain": [
              "'2023/01/15 11:12:44'"
            ],
            "application/vnd.google.colaboratory.intrinsic+json": {
              "type": "string"
            }
          },
          "metadata": {},
          "execution_count": 56
        }
      ]
    },
    {
      "cell_type": "code",
      "source": [
        "# Q13\n",
        "import random\n",
        "\n",
        "def random_pop(data):\n",
        "  number = random.choice(data)\n",
        "  data.remove(number)\n",
        "  return number"
      ],
      "metadata": {
        "id": "EQtUwaqlF5Ew"
      },
      "execution_count": 57,
      "outputs": []
    },
    {
      "cell_type": "code",
      "source": [
        "data = list(range(1,46))\n",
        "\n",
        "for i in range(6):\n",
        "  print(random_pop(data))"
      ],
      "metadata": {
        "colab": {
          "base_uri": "https://localhost:8080/"
        },
        "id": "OfpWXljVF5Ij",
        "outputId": "db2f3b46-7964-43ae-fbce-5a068cf65495"
      },
      "execution_count": 62,
      "outputs": [
        {
          "output_type": "stream",
          "name": "stdout",
          "text": [
            "23\n",
            "19\n",
            "24\n",
            "44\n",
            "11\n",
            "15\n"
          ]
        }
      ]
    }
  ]
}