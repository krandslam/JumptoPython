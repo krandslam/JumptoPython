{
  "nbformat": 4,
  "nbformat_minor": 0,
  "metadata": {
    "colab": {
      "provenance": []
    },
    "kernelspec": {
      "name": "python3",
      "display_name": "Python 3"
    },
    "language_info": {
      "name": "python"
    }
  },
  "cells": [
    {
      "cell_type": "code",
      "execution_count": null,
      "metadata": {
        "colab": {
          "base_uri": "https://localhost:8080/"
        },
        "id": "5h1ltKZXMMXW",
        "outputId": "e4b52eec-522c-42a2-87f1-b9de3bfa7a8f"
      },
      "outputs": [
        {
          "output_type": "stream",
          "name": "stdout",
          "text": [
            "a#b#c#d\n"
          ]
        }
      ],
      "source": [
        "# 1. Change string\n",
        "\n",
        "string1 = \"a:b:c:d\"\n",
        "string1 = string1.replace(':','#')\n",
        "print(string1)"
      ]
    },
    {
      "cell_type": "code",
      "source": [
        "# 2. define a['C']\n",
        "a = {'A':90, 'B':80}\n",
        "a['C']"
      ],
      "metadata": {
        "colab": {
          "base_uri": "https://localhost:8080/",
          "height": 193
        },
        "id": "f3g9wjxqNAh9",
        "outputId": "afe8c183-bf18-4816-f7d8-dd4f2a377d18"
      },
      "execution_count": null,
      "outputs": [
        {
          "output_type": "error",
          "ename": "KeyError",
          "evalue": "ignored",
          "traceback": [
            "\u001b[0;31m---------------------------------------------------------------------------\u001b[0m",
            "\u001b[0;31mKeyError\u001b[0m                                  Traceback (most recent call last)",
            "\u001b[0;32m<ipython-input-3-93a93e906e05>\u001b[0m in \u001b[0;36m<module>\u001b[0;34m\u001b[0m\n\u001b[1;32m      1\u001b[0m \u001b[0ma\u001b[0m \u001b[0;34m=\u001b[0m \u001b[0;34m{\u001b[0m\u001b[0;34m'A'\u001b[0m\u001b[0;34m:\u001b[0m\u001b[0;36m90\u001b[0m\u001b[0;34m,\u001b[0m \u001b[0;34m'B'\u001b[0m\u001b[0;34m:\u001b[0m\u001b[0;36m80\u001b[0m\u001b[0;34m}\u001b[0m\u001b[0;34m\u001b[0m\u001b[0;34m\u001b[0m\u001b[0m\n\u001b[0;32m----> 2\u001b[0;31m \u001b[0ma\u001b[0m\u001b[0;34m[\u001b[0m\u001b[0;34m'C'\u001b[0m\u001b[0;34m]\u001b[0m\u001b[0;34m\u001b[0m\u001b[0;34m\u001b[0m\u001b[0m\n\u001b[0m",
            "\u001b[0;31mKeyError\u001b[0m: 'C'"
          ]
        }
      ]
    },
    {
      "cell_type": "code",
      "source": [
        "a['C'] = 70\n",
        "a['C']"
      ],
      "metadata": {
        "colab": {
          "base_uri": "https://localhost:8080/"
        },
        "id": "UzeAilmxM-xX",
        "outputId": "706173f2-7169-407b-9b56-dab1e9ddd837"
      },
      "execution_count": null,
      "outputs": [
        {
          "output_type": "execute_result",
          "data": {
            "text/plain": [
              "70"
            ]
          },
          "metadata": {},
          "execution_count": 4
        }
      ]
    },
    {
      "cell_type": "code",
      "source": [
        "# 3. what is difference between extend and +? -> I think no difference\n",
        "a = [1,2,3]\n",
        "a = a + [4,5] # address changes\n",
        "a"
      ],
      "metadata": {
        "colab": {
          "base_uri": "https://localhost:8080/"
        },
        "id": "TxXZTvMgM-2h",
        "outputId": "7ced4a4f-7991-47ae-b10d-47784fca0cee"
      },
      "execution_count": null,
      "outputs": [
        {
          "output_type": "execute_result",
          "data": {
            "text/plain": [
              "[1, 2, 3, 4, 5]"
            ]
          },
          "metadata": {},
          "execution_count": 5
        }
      ]
    },
    {
      "cell_type": "code",
      "source": [
        "a = [1,2,3]\n",
        "a.extend([4,5])\n",
        "a"
      ],
      "metadata": {
        "colab": {
          "base_uri": "https://localhost:8080/"
        },
        "id": "AA5R2TnbM-55",
        "outputId": "1b471b38-f308-4b0d-9448-38c7e199dd13"
      },
      "execution_count": null,
      "outputs": [
        {
          "output_type": "execute_result",
          "data": {
            "text/plain": [
              "[1, 2, 3, 4, 5]"
            ]
          },
          "metadata": {},
          "execution_count": 6
        }
      ]
    },
    {
      "cell_type": "code",
      "source": [
        "# 4.Find sum of scores above or equal to 50\n",
        "A = [20,55,67,82,45,33,90,97,100,25]\n",
        "\n",
        "sum = 0\n",
        "for a in A:\n",
        "  if a >= 50:\n",
        "    sum += a\n",
        "\n",
        "print(sum)"
      ],
      "metadata": {
        "colab": {
          "base_uri": "https://localhost:8080/"
        },
        "id": "UXqY6xEeM-9p",
        "outputId": "86ce3e4e-5b05-447a-dee2-31d81eb79529"
      },
      "execution_count": null,
      "outputs": [
        {
          "output_type": "stream",
          "name": "stdout",
          "text": [
            "491\n"
          ]
        }
      ]
    },
    {
      "cell_type": "code",
      "source": [
        "# 5. Fibonacci function\n",
        "# 0 1 1 2 3 5 8 13\n",
        "\n",
        "def Fibonacci(n):\n",
        "  if n <= 1: return n\n",
        "  else:\n",
        "    return Fibonacci(n-1) + Fibonacci(n-2)\n"
      ],
      "metadata": {
        "id": "IL-W2-mxM_Av"
      },
      "execution_count": null,
      "outputs": []
    },
    {
      "cell_type": "code",
      "source": [
        "Fibonacci(2)"
      ],
      "metadata": {
        "colab": {
          "base_uri": "https://localhost:8080/"
        },
        "id": "YXx8h7KEM_Di",
        "outputId": "968e64e5-340b-41b1-99f4-00d1bf494c42"
      },
      "execution_count": null,
      "outputs": [
        {
          "output_type": "execute_result",
          "data": {
            "text/plain": [
              "1"
            ]
          },
          "metadata": {},
          "execution_count": 9
        }
      ]
    },
    {
      "cell_type": "code",
      "source": [
        "Fibonacci(7)"
      ],
      "metadata": {
        "colab": {
          "base_uri": "https://localhost:8080/"
        },
        "id": "DmgiJ6IWM_HO",
        "outputId": "9897a371-10d5-4c0c-a5e5-46b9de3709e9"
      },
      "execution_count": null,
      "outputs": [
        {
          "output_type": "execute_result",
          "data": {
            "text/plain": [
              "13"
            ]
          },
          "metadata": {},
          "execution_count": 10
        }
      ]
    },
    {
      "cell_type": "code",
      "source": [
        "# 6. get input from user and calculate the total sum\n",
        "\n",
        "list1 = input(\"Enter numbers: \")\n",
        "\n",
        "list1 = list1.split(\",\")\n",
        "print(list1)"
      ],
      "metadata": {
        "colab": {
          "base_uri": "https://localhost:8080/"
        },
        "id": "knxmhM1rPWQ-",
        "outputId": "452172b3-7e35-469c-ed31-3a6e8e349710"
      },
      "execution_count": null,
      "outputs": [
        {
          "output_type": "stream",
          "name": "stdout",
          "text": [
            "Enter numbers: 65,45,2,3,45,8\n",
            "['65', '45', '2', '3', '45', '8']\n"
          ]
        }
      ]
    },
    {
      "cell_type": "code",
      "source": [
        "sum = 0\n",
        "for num in list1:\n",
        "  sum += int(num)\n",
        "\n",
        "print(sum)"
      ],
      "metadata": {
        "colab": {
          "base_uri": "https://localhost:8080/"
        },
        "id": "fmApZgxUPWXT",
        "outputId": "74300a12-1565-4c59-cca2-5547b4523746"
      },
      "execution_count": null,
      "outputs": [
        {
          "output_type": "stream",
          "name": "stdout",
          "text": [
            "168\n"
          ]
        }
      ]
    },
    {
      "cell_type": "code",
      "source": [
        "# 7. multiplication tables\n",
        "\n",
        "num = input(\"insert number for multiple table (2-9): \")\n",
        "for i in range(1,10):\n",
        "  print(int(num)*i, end = ' ')"
      ],
      "metadata": {
        "id": "ze5MjBkfPWad",
        "colab": {
          "base_uri": "https://localhost:8080/"
        },
        "outputId": "3f6c80e3-fd2e-4217-9dea-7ea25f4a742a"
      },
      "execution_count": null,
      "outputs": [
        {
          "output_type": "stream",
          "name": "stdout",
          "text": [
            "insert number for multiple table (2-9): 2\n",
            "2 4 6 8 10 12 14 16 18 "
          ]
        }
      ]
    },
    {
      "cell_type": "code",
      "source": [
        "# 8. save reverse order\n",
        "%ls"
      ],
      "metadata": {
        "id": "Tj5eEsC3PWdc",
        "colab": {
          "base_uri": "https://localhost:8080/"
        },
        "outputId": "f8ebb1a1-daef-499d-e6bb-c9f2c17ac1f7"
      },
      "execution_count": null,
      "outputs": [
        {
          "output_type": "stream",
          "name": "stdout",
          "text": [
            "abc.txt  \u001b[0m\u001b[01;34mdrive\u001b[0m/  \u001b[01;34msample_data\u001b[0m/\n"
          ]
        }
      ]
    },
    {
      "cell_type": "code",
      "source": [
        "file1 = open(\"abc.txt\", \"r\")\n",
        "print(file1.read())\n",
        "file1.close()"
      ],
      "metadata": {
        "id": "AXDIcEUNPWgR",
        "colab": {
          "base_uri": "https://localhost:8080/"
        },
        "outputId": "ab0bfb73-2ff3-4855-a682-7e1cdf93f0ce"
      },
      "execution_count": null,
      "outputs": [
        {
          "output_type": "stream",
          "name": "stdout",
          "text": [
            "AAA\n",
            "BBB\n",
            "CCC\n",
            "DDD\n",
            "EEE\n"
          ]
        }
      ]
    },
    {
      "cell_type": "code",
      "source": [
        "#read input file\n",
        "fin = open(\"abc.txt\", \"r\")\n",
        "#read file contents to string\n",
        "data = fin.read()\n",
        "#change data\n",
        "str_list = []\n",
        "tmp_str = \"\"\n",
        "for i in range(0,20):\n",
        "  if (i%4 != 3):\n",
        "    tmp_str += data[i]\n",
        "  else: \n",
        "    str_list.append(tmp_str)\n",
        "    tmp_str = \"\"\n",
        "\n",
        "print(str_list)\n",
        "print(list(reversed(str_list)))\n",
        "\n",
        "write_data = \"\"\n",
        "for alphabet in list(reversed(str_list)):\n",
        "  write_data += alphabet + \"\\n\"\n",
        "\n",
        "print(write_data)\n",
        "#close the input file\n",
        "fin.close()"
      ],
      "metadata": {
        "id": "HqRRYs8UPWi9",
        "colab": {
          "base_uri": "https://localhost:8080/"
        },
        "outputId": "eb42a34c-c08f-424e-c95d-46e9042f810e"
      },
      "execution_count": null,
      "outputs": [
        {
          "output_type": "stream",
          "name": "stdout",
          "text": [
            "['AAA', 'BBB', 'CCC', 'DDD', 'EEE']\n",
            "['EEE', 'DDD', 'CCC', 'BBB', 'AAA']\n",
            "EEE\n",
            "DDD\n",
            "CCC\n",
            "BBB\n",
            "AAA\n",
            "\n"
          ]
        }
      ]
    },
    {
      "cell_type": "code",
      "source": [
        "#open the input file in write mode\n",
        "fin = open(\"abc.txt\", \"wt\")\n",
        "#overwrite the input file with the resulting data\n",
        "fin.write(write_data)\n",
        "#close the file\n",
        "fin.close()"
      ],
      "metadata": {
        "id": "UvJ_PAmKMcYM"
      },
      "execution_count": null,
      "outputs": []
    },
    {
      "cell_type": "code",
      "source": [
        "# 9. find average from the file\n",
        "file1 = open(\"sample.txt\", \"r\")\n",
        "print(file1.read())\n",
        "file1.close()"
      ],
      "metadata": {
        "colab": {
          "base_uri": "https://localhost:8080/"
        },
        "id": "4ecBOC-FUq6S",
        "outputId": "22724cbf-03a2-4ce3-8cf7-6428df871625"
      },
      "execution_count": null,
      "outputs": [
        {
          "output_type": "stream",
          "name": "stdout",
          "text": [
            "70\n",
            "60\n",
            "55\n",
            "75\n",
            "95\n",
            "90\n",
            "80\n",
            "80\n",
            "85\n",
            "100\n"
          ]
        }
      ]
    },
    {
      "cell_type": "code",
      "source": [
        "#read input file\n",
        "fin = open(\"sample.txt\", \"r\")\n",
        "#read file contents to string\n",
        "lines = fin.readlines()\n",
        "#change data\n",
        "sum = 0\n",
        "for line in lines:\n",
        "  sum += int(line)\n",
        "\n",
        "average = sum / 10\n",
        "\n",
        "#close the input file\n",
        "fin.close()"
      ],
      "metadata": {
        "id": "xh8lrFeBUq_u"
      },
      "execution_count": null,
      "outputs": []
    },
    {
      "cell_type": "code",
      "source": [
        "#open the input file in write mode\n",
        "fin = open(\"result.txt\", \"w\")\n",
        "#overwrite the input file with the resulting data\n",
        "fin.write(str(average))\n",
        "#close the file\n",
        "fin.close()"
      ],
      "metadata": {
        "id": "mSFy8sZkUrCq"
      },
      "execution_count": null,
      "outputs": []
    },
    {
      "cell_type": "code",
      "source": [
        "# 10. make calculator class"
      ],
      "metadata": {
        "id": "YSfkBG1YUrFb"
      },
      "execution_count": null,
      "outputs": []
    },
    {
      "cell_type": "code",
      "source": [
        "class Calculator:\n",
        "  def __init__(self, nums):\n",
        "    self.result = 0\n",
        "    self.nums = nums\n",
        "\n",
        "  def sum(self):\n",
        "    for num in self.nums:\n",
        "      self.result += num\n",
        "    return self.result\n",
        "\n",
        "  def avg(self):\n",
        "    return self.result / len(self.nums)"
      ],
      "metadata": {
        "id": "oeEQCq1QY1tq"
      },
      "execution_count": null,
      "outputs": []
    },
    {
      "cell_type": "code",
      "source": [
        "cal1 = Calculator([1,2,3,4,5])\n",
        "print(cal1.sum())\n",
        "print(cal1.avg())"
      ],
      "metadata": {
        "colab": {
          "base_uri": "https://localhost:8080/"
        },
        "id": "zGWeWMWhXNzF",
        "outputId": "3cd7c239-f440-439d-b7a4-57d5c8eea507"
      },
      "execution_count": null,
      "outputs": [
        {
          "output_type": "stream",
          "name": "stdout",
          "text": [
            "15\n",
            "3.0\n"
          ]
        }
      ]
    },
    {
      "cell_type": "code",
      "source": [
        "cal2 = Calculator([6,7,8,9,10])\n",
        "print(cal2.sum())\n",
        "print(cal2.avg())"
      ],
      "metadata": {
        "id": "Cj2IuPcgXN68",
        "colab": {
          "base_uri": "https://localhost:8080/"
        },
        "outputId": "4d8e65c9-1b52-4a0a-c9bc-cd6c4285de6d"
      },
      "execution_count": null,
      "outputs": [
        {
          "output_type": "stream",
          "name": "stdout",
          "text": [
            "40\n",
            "8.0\n"
          ]
        }
      ]
    },
    {
      "cell_type": "code",
      "source": [
        "# 11. import mymod.py\n",
        "import mymod"
      ],
      "metadata": {
        "id": "oSWbSj3zXN_E"
      },
      "execution_count": null,
      "outputs": []
    },
    {
      "cell_type": "code",
      "source": [
        "# 12. try except \n",
        "\n",
        "result = 0\n",
        "try:\n",
        "  [1,2,3][3] # index\n",
        "  \"a\"+1 # type\n",
        "  4 / 0 # zero-division\n",
        "\n",
        "except TypeError:\n",
        "  result += 1\n",
        "except ZeroDivisionError:\n",
        "  result += 2\n",
        "except IndexError:\n",
        "  result += 3\n",
        "finally:\n",
        "  result += 4\n",
        "\n",
        "print(result) # index error + finally"
      ],
      "metadata": {
        "id": "zGAjVJRoXOCe",
        "colab": {
          "base_uri": "https://localhost:8080/"
        },
        "outputId": "eca32e6d-b6b8-404f-a089-cad6b099a17e"
      },
      "execution_count": null,
      "outputs": [
        {
          "output_type": "stream",
          "name": "stdout",
          "text": [
            "7\n"
          ]
        }
      ]
    },
    {
      "cell_type": "code",
      "source": [
        "[1,2,3][3]"
      ],
      "metadata": {
        "id": "W3iK8TVwUrIC",
        "colab": {
          "base_uri": "https://localhost:8080/",
          "height": 174
        },
        "outputId": "faef24c9-2e7e-4f54-9e4c-0e91dc671476"
      },
      "execution_count": null,
      "outputs": [
        {
          "output_type": "error",
          "ename": "IndexError",
          "evalue": "ignored",
          "traceback": [
            "\u001b[0;31m---------------------------------------------------------------------------\u001b[0m",
            "\u001b[0;31mIndexError\u001b[0m                                Traceback (most recent call last)",
            "\u001b[0;32m<ipython-input-6-4be170dfe99c>\u001b[0m in \u001b[0;36m<module>\u001b[0;34m\u001b[0m\n\u001b[0;32m----> 1\u001b[0;31m \u001b[0;34m[\u001b[0m\u001b[0;36m1\u001b[0m\u001b[0;34m,\u001b[0m\u001b[0;36m2\u001b[0m\u001b[0;34m,\u001b[0m\u001b[0;36m3\u001b[0m\u001b[0;34m]\u001b[0m\u001b[0;34m[\u001b[0m\u001b[0;36m3\u001b[0m\u001b[0;34m]\u001b[0m\u001b[0;34m\u001b[0m\u001b[0;34m\u001b[0m\u001b[0m\n\u001b[0m",
            "\u001b[0;31mIndexError\u001b[0m: list index out of range"
          ]
        }
      ]
    },
    {
      "cell_type": "code",
      "source": [
        "\"a\"+1"
      ],
      "metadata": {
        "colab": {
          "base_uri": "https://localhost:8080/",
          "height": 174
        },
        "id": "WOXYb76fsWNB",
        "outputId": "014c4100-e3c2-4788-84bf-c21b02ae3aa6"
      },
      "execution_count": null,
      "outputs": [
        {
          "output_type": "error",
          "ename": "TypeError",
          "evalue": "ignored",
          "traceback": [
            "\u001b[0;31m---------------------------------------------------------------------------\u001b[0m",
            "\u001b[0;31mTypeError\u001b[0m                                 Traceback (most recent call last)",
            "\u001b[0;32m<ipython-input-7-e29823995ef5>\u001b[0m in \u001b[0;36m<module>\u001b[0;34m\u001b[0m\n\u001b[0;32m----> 1\u001b[0;31m \u001b[0;34m\"a\"\u001b[0m\u001b[0;34m+\u001b[0m\u001b[0;36m1\u001b[0m\u001b[0;34m\u001b[0m\u001b[0;34m\u001b[0m\u001b[0m\n\u001b[0m",
            "\u001b[0;31mTypeError\u001b[0m: can only concatenate str (not \"int\") to str"
          ]
        }
      ]
    },
    {
      "cell_type": "code",
      "source": [
        "# 13. DashInsert function\n",
        "def DashInsert(string):\n",
        "  new_string = \"\"\n",
        "  even = False\n",
        "  odd = False\n",
        "  for num in string:\n",
        "    if int(num) % 2 == 0:\n",
        "      if even == True:\n",
        "        new_string += \"*\"\n",
        "        new_string += num\n",
        "      else:\n",
        "        new_string += num\n",
        "        even = True\n",
        "        odd = False\n",
        "    else:\n",
        "      if odd == True:\n",
        "        new_string += \"-\"\n",
        "        new_string += num\n",
        "      else:\n",
        "        new_string += num\n",
        "        odd = True\n",
        "        even = False\n",
        "\n",
        "  print(new_string)"
      ],
      "metadata": {
        "id": "rm1W2hRzsWlJ"
      },
      "execution_count": null,
      "outputs": []
    },
    {
      "cell_type": "code",
      "source": [
        "string = input(\"Insert nums: \")\n",
        "DashInsert(string)"
      ],
      "metadata": {
        "colab": {
          "base_uri": "https://localhost:8080/"
        },
        "id": "udSJFXaLySAB",
        "outputId": "c32e07d7-6e9a-46f7-aa12-b59600d2b0d2"
      },
      "execution_count": null,
      "outputs": [
        {
          "output_type": "stream",
          "name": "stdout",
          "text": [
            "Insert nums: 4546793\n",
            "454*67-9-3\n"
          ]
        }
      ]
    },
    {
      "cell_type": "code",
      "source": [
        "# 14. String compress\n",
        "string = input(\"Insert string: \")\n",
        "result = \"\"\n",
        "ahead = \"\"\n",
        "cnt = 1\n",
        "first = True\n",
        "for alphabet in string:\n",
        "  if ahead == alphabet:\n",
        "    cnt += 1\n",
        "  else:\n",
        "    if first == True:\n",
        "      ahead = alphabet\n",
        "      first = False\n",
        "    else:\n",
        "      result += ahead + str(cnt)\n",
        "      ahead = alphabet\n",
        "      cnt = 1\n",
        "\n",
        "# include last character\n",
        "result += ahead + str(cnt)\n",
        "\n",
        "print(result)"
      ],
      "metadata": {
        "colab": {
          "base_uri": "https://localhost:8080/"
        },
        "id": "JKaUaLrB-Dds",
        "outputId": "65d897e3-1d13-4a04-e2c4-3220dfb5235e"
      },
      "execution_count": null,
      "outputs": [
        {
          "output_type": "stream",
          "name": "stdout",
          "text": [
            "Insert string: aaabbccccccc\n",
            "a3b2c7\n"
          ]
        }
      ]
    },
    {
      "cell_type": "code",
      "source": [
        "# 15. Duplicate numbers\n",
        "string = input(\"Insert string: \")\n",
        "\n",
        "num_list = string.split(' ')\n",
        "print(num_list)"
      ],
      "metadata": {
        "colab": {
          "base_uri": "https://localhost:8080/"
        },
        "id": "Snn3cZ3ePi7I",
        "outputId": "fc8add3f-76ec-49c9-a629-cf9b10468b59"
      },
      "execution_count": null,
      "outputs": [
        {
          "output_type": "stream",
          "name": "stdout",
          "text": [
            "Insert string: 0123456789 01234 01234567890 6789012345 012322456789\n",
            "['0123456789', '01234', '01234567890', '6789012345', '012322456789']\n"
          ]
        }
      ]
    },
    {
      "cell_type": "code",
      "source": [
        "for num in num_list:\n",
        "  fail = False\n",
        "  num_test = [False,False,False,False,False,False,False,False,False,False]\n",
        "  if len(num) == 10:\n",
        "    for n in num:\n",
        "      if num_test[(int(n))] == False:\n",
        "        num_test[(int(n))] = True\n",
        "      else:\n",
        "        fail = True\n",
        "        break\n",
        "  else:\n",
        "    print('False ')\n",
        "    continue\n",
        "\n",
        "  if fail == True:\n",
        "    print('False ')\n",
        "  else:\n",
        "    if all(num_test) == True:\n",
        "      print('True ')\n",
        "    else:\n",
        "      print('False')\n"
      ],
      "metadata": {
        "colab": {
          "base_uri": "https://localhost:8080/"
        },
        "id": "K3K_DAFgPjEm",
        "outputId": "4b6ff91d-48cf-4fa5-8de9-79dfc90e5198"
      },
      "execution_count": null,
      "outputs": [
        {
          "output_type": "stream",
          "name": "stdout",
          "text": [
            "True \n",
            "False \n",
            "False \n",
            "True \n",
            "False \n"
          ]
        }
      ]
    },
    {
      "cell_type": "code",
      "source": [
        "# 16. morse code conversion\n",
        "morse_code = input(\"Insert morse code: \")\n",
        "\n",
        "MORSE_CODE_DICT = { 'A':'.-', 'B':'-...',\n",
        "                    'C':'-.-.', 'D':'-..', 'E':'.',\n",
        "                    'F':'..-.', 'G':'--.', 'H':'....',\n",
        "                    'I':'..', 'J':'.---', 'K':'-.-',\n",
        "                    'L':'.-..', 'M':'--', 'N':'-.',\n",
        "                    'O':'---', 'P':'.--.', 'Q':'--.-',\n",
        "                    'R':'.-.', 'S':'...', 'T':'-',\n",
        "                    'U':'..-', 'V':'...-', 'W':'.--',\n",
        "                    'X':'-..-', 'Y':'-.--', 'Z':'--..'\n",
        "                    }\n",
        "\n",
        "def decrypt(message):\n",
        " \n",
        "    # extra space added at the end to access the\n",
        "    # last morse code\n",
        "    message += ' '\n",
        " \n",
        "    decipher = ''\n",
        "    citext = ''\n",
        "    for letter in message:\n",
        " \n",
        "        # checks for space\n",
        "        if (letter != ' '):\n",
        " \n",
        "            # counter to keep track of space\n",
        "            i = 0\n",
        " \n",
        "            # storing morse code of a single character\n",
        "            citext += letter\n",
        " \n",
        "        # in case of space\n",
        "        else:\n",
        "            # if i = 1 that indicates a new character\n",
        "            i += 1\n",
        " \n",
        "            # if i = 2 that indicates a new word\n",
        "            if i == 2 :\n",
        " \n",
        "                 # adding space to separate words\n",
        "                decipher += ' '\n",
        "            else:\n",
        " \n",
        "                # accessing the keys using their values (reverse of encryption)\n",
        "                for key, value in MORSE_CODE_DICT.items():\n",
        "                  if citext == value:\n",
        "                    decipher += key\n",
        "                citext = ''\n",
        " \n",
        "    return decipher\n",
        "\n",
        "result = decrypt(morse_code)\n",
        "print(result)"
      ],
      "metadata": {
        "colab": {
          "base_uri": "https://localhost:8080/"
        },
        "id": "71kgn4ugPjK_",
        "outputId": "62f2b835-b6fc-41a2-d01e-427482681da7"
      },
      "execution_count": null,
      "outputs": [
        {
          "output_type": "stream",
          "name": "stdout",
          "text": [
            "Insert morse code: .... .  ... .-.. . . .--. ...  . .- .-. .-.. -.--\n",
            "HE SLEEPS EARLY\n"
          ]
        }
      ]
    },
    {
      "cell_type": "code",
      "source": [
        "# 17. simple re\n",
        "import re\n",
        "p = re.compile('a[.]{3,}b')\n",
        "m = p.match(\"acccb\")\n",
        "print(m)"
      ],
      "metadata": {
        "colab": {
          "base_uri": "https://localhost:8080/"
        },
        "id": "AlzZicPRyh9r",
        "outputId": "6e7d8267-1bc7-4f00-9ea4-713dcbf50a06"
      },
      "execution_count": 1,
      "outputs": [
        {
          "output_type": "stream",
          "name": "stdout",
          "text": [
            "None\n"
          ]
        }
      ]
    },
    {
      "cell_type": "code",
      "source": [
        "p = re.compile('a[.]{3,}b') # between a and b at least 3 dots exist\n",
        "m = p.match(\"a....b\")\n",
        "print(m)"
      ],
      "metadata": {
        "colab": {
          "base_uri": "https://localhost:8080/"
        },
        "id": "j3BWk4_4yiG9",
        "outputId": "cbe33b22-7c5a-4253-d44b-e2ad363dae0a"
      },
      "execution_count": 2,
      "outputs": [
        {
          "output_type": "stream",
          "name": "stdout",
          "text": [
            "<re.Match object; span=(0, 6), match='a....b'>\n"
          ]
        }
      ]
    },
    {
      "cell_type": "code",
      "source": [
        "p = re.compile('a[.]{3,}b')\n",
        "m = p.match(\"aaab\")\n",
        "print(m)"
      ],
      "metadata": {
        "colab": {
          "base_uri": "https://localhost:8080/"
        },
        "id": "Yb-GxpOlyiLf",
        "outputId": "d9ae71b5-78be-492d-c697-5ee9efbcb2f9"
      },
      "execution_count": 3,
      "outputs": [
        {
          "output_type": "stream",
          "name": "stdout",
          "text": [
            "None\n"
          ]
        }
      ]
    },
    {
      "cell_type": "code",
      "source": [
        "p = re.compile('a[.]{3,}b')\n",
        "m = p.match(\"a.cccb\")\n",
        "print(m)"
      ],
      "metadata": {
        "colab": {
          "base_uri": "https://localhost:8080/"
        },
        "id": "ospJx6HZyiO2",
        "outputId": "f181e8fd-525a-43ac-deee-8fde9ecaad7e"
      },
      "execution_count": 4,
      "outputs": [
        {
          "output_type": "stream",
          "name": "stdout",
          "text": [
            "None\n"
          ]
        }
      ]
    },
    {
      "cell_type": "code",
      "source": [
        "# 18. re search\n",
        "import re\n",
        "p = re.compile(\"[a-z]+\")\n",
        "m = p.search(\"5 python\") # start: 2, end: 8\n",
        "m.start() + m.end()"
      ],
      "metadata": {
        "colab": {
          "base_uri": "https://localhost:8080/"
        },
        "id": "oXC3vr0WyiR-",
        "outputId": "632be368-81a6-4a32-99f4-0b5dc95de3bc"
      },
      "execution_count": 5,
      "outputs": [
        {
          "output_type": "execute_result",
          "data": {
            "text/plain": [
              "10"
            ]
          },
          "metadata": {},
          "execution_count": 5
        }
      ]
    },
    {
      "cell_type": "code",
      "source": [
        "# 19. re grouping\n",
        "data = \"\"\"\n",
        "park 010-9999-9988\n",
        "kim 010-9909-7789\n",
        "lee 010-8789-7768\n",
        "\"\"\"\n",
        "\n",
        "p = re.compile(r\"(\\w+\\s+\\d+[-]\\d+)[-]\\d+\")\n",
        "print(p.sub(\"\\g<1>-####\", data))"
      ],
      "metadata": {
        "colab": {
          "base_uri": "https://localhost:8080/"
        },
        "id": "rsV2Z8EGyiU2",
        "outputId": "97a63eca-8bb8-44e1-9f14-02e38b92d7cb"
      },
      "execution_count": 23,
      "outputs": [
        {
          "output_type": "stream",
          "name": "stdout",
          "text": [
            "\n",
            "park 010-9999-####\n",
            "kim 010-9909-####\n",
            "lee 010-8789-####\n",
            "\n"
          ]
        }
      ]
    },
    {
      "cell_type": "code",
      "source": [
        "# 20. re search options\n",
        "p = re.compile(\".*[@].*[.].*$\")\n",
        "m = p.search(\"park@naver.com\")\n",
        "print(m.group())"
      ],
      "metadata": {
        "colab": {
          "base_uri": "https://localhost:8080/"
        },
        "id": "X0Tuzvea4gBE",
        "outputId": "4178e1cc-ce21-4e46-8767-acb6f65a210c"
      },
      "execution_count": 26,
      "outputs": [
        {
          "output_type": "stream",
          "name": "stdout",
          "text": [
            "park@naver.com\n"
          ]
        }
      ]
    },
    {
      "cell_type": "code",
      "source": [
        "p = re.compile(\".*[@].*[.].*$\")\n",
        "m = p.search(\"kweon@snu.ac.kr\")\n",
        "print(m.group())"
      ],
      "metadata": {
        "colab": {
          "base_uri": "https://localhost:8080/"
        },
        "id": "b4f8MrmG4gGy",
        "outputId": "efe0853b-5eef-4c30-cb8f-899206c0c7e0"
      },
      "execution_count": 27,
      "outputs": [
        {
          "output_type": "stream",
          "name": "stdout",
          "text": [
            "kweon@snu.ac.kr\n"
          ]
        }
      ]
    },
    {
      "cell_type": "code",
      "source": [
        "p = re.compile(\".*[@].*[.](?=com$|net$)\")\n",
        "m = p.search(\"park@naver.com\")\n",
        "print(m.group())"
      ],
      "metadata": {
        "colab": {
          "base_uri": "https://localhost:8080/"
        },
        "id": "ZFppUbOI4gJ8",
        "outputId": "c53a9d06-405b-45e7-8355-6224b348e4ed"
      },
      "execution_count": 32,
      "outputs": [
        {
          "output_type": "stream",
          "name": "stdout",
          "text": [
            "park@naver.\n"
          ]
        }
      ]
    },
    {
      "cell_type": "code",
      "source": [
        "p = re.compile(\".*[@].*[.](?=com$|net$)\")\n",
        "m = p.search(\"park@daum.net\")\n",
        "print(m.group())"
      ],
      "metadata": {
        "colab": {
          "base_uri": "https://localhost:8080/"
        },
        "id": "zrQRfn6T8VzS",
        "outputId": "ae3587fd-0ff8-420d-bea4-ff6ad16b0959"
      },
      "execution_count": 33,
      "outputs": [
        {
          "output_type": "stream",
          "name": "stdout",
          "text": [
            "park@daum.\n"
          ]
        }
      ]
    },
    {
      "cell_type": "code",
      "source": [
        "p = re.compile(\".*[@].*[.](?=com$|net$)\")\n",
        "m = p.search(\"kweon@snu.ac.kr\")\n",
        "print(m.group())"
      ],
      "metadata": {
        "colab": {
          "base_uri": "https://localhost:8080/",
          "height": 211
        },
        "id": "Y8NwA-u_82Iq",
        "outputId": "e2cbb19b-17dc-4a49-c149-7f77700652b7"
      },
      "execution_count": 34,
      "outputs": [
        {
          "output_type": "error",
          "ename": "AttributeError",
          "evalue": "ignored",
          "traceback": [
            "\u001b[0;31m---------------------------------------------------------------------------\u001b[0m",
            "\u001b[0;31mAttributeError\u001b[0m                            Traceback (most recent call last)",
            "\u001b[0;32m<ipython-input-34-5584eb1d7b58>\u001b[0m in \u001b[0;36m<module>\u001b[0;34m\u001b[0m\n\u001b[1;32m      1\u001b[0m \u001b[0mp\u001b[0m \u001b[0;34m=\u001b[0m \u001b[0mre\u001b[0m\u001b[0;34m.\u001b[0m\u001b[0mcompile\u001b[0m\u001b[0;34m(\u001b[0m\u001b[0;34m\".*[@].*[.](?=com$|net$)\"\u001b[0m\u001b[0;34m)\u001b[0m\u001b[0;34m\u001b[0m\u001b[0;34m\u001b[0m\u001b[0m\n\u001b[1;32m      2\u001b[0m \u001b[0mm\u001b[0m \u001b[0;34m=\u001b[0m \u001b[0mp\u001b[0m\u001b[0;34m.\u001b[0m\u001b[0msearch\u001b[0m\u001b[0;34m(\u001b[0m\u001b[0;34m\"kweon@snu.ac.kr\"\u001b[0m\u001b[0;34m)\u001b[0m\u001b[0;34m\u001b[0m\u001b[0;34m\u001b[0m\u001b[0m\n\u001b[0;32m----> 3\u001b[0;31m \u001b[0mprint\u001b[0m\u001b[0;34m(\u001b[0m\u001b[0mm\u001b[0m\u001b[0;34m.\u001b[0m\u001b[0mgroup\u001b[0m\u001b[0;34m(\u001b[0m\u001b[0;34m)\u001b[0m\u001b[0;34m)\u001b[0m\u001b[0;34m\u001b[0m\u001b[0;34m\u001b[0m\u001b[0m\n\u001b[0m",
            "\u001b[0;31mAttributeError\u001b[0m: 'NoneType' object has no attribute 'group'"
          ]
        }
      ]
    }
  ]
}