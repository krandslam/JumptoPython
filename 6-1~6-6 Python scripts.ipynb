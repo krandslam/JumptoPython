{
  "nbformat": 4,
  "nbformat_minor": 0,
  "metadata": {
    "colab": {
      "provenance": []
    },
    "kernelspec": {
      "name": "python3",
      "display_name": "Python 3"
    },
    "language_info": {
      "name": "python"
    }
  },
  "cells": [
    {
      "cell_type": "code",
      "execution_count": 2,
      "metadata": {
        "id": "SWe0iIzGyt35"
      },
      "outputs": [],
      "source": [
        "# Multiplication table\n",
        "\n",
        "def GuGu(n):\n",
        "  result = []\n",
        "  for i in range(1,10):\n",
        "    result.append(n*i)\n",
        "  return result"
      ]
    },
    {
      "cell_type": "code",
      "source": [
        "print(GuGu(2))"
      ],
      "metadata": {
        "colab": {
          "base_uri": "https://localhost:8080/"
        },
        "id": "yrjKUHB0zsdn",
        "outputId": "150ddbf3-ccb3-45d1-ea8f-0ca1c5dd2509"
      },
      "execution_count": 3,
      "outputs": [
        {
          "output_type": "stream",
          "name": "stdout",
          "text": [
            "[2, 4, 6, 8, 10, 12, 14, 16, 18]\n"
          ]
        }
      ]
    },
    {
      "cell_type": "code",
      "source": [
        "# sum of multiple of 3 and 5, n < 1000\n",
        "\n",
        "def sum_3_5():\n",
        "  result = 0\n",
        "  for i in range(1,1000):\n",
        "    if i % 3 == 0:\n",
        "      result += i\n",
        "    if i % 5 == 0:\n",
        "      result += i\n",
        "    if i % 15 == 0:\n",
        "      result -= i\n",
        "  return result"
      ],
      "metadata": {
        "id": "F4SuOjA8z6ll"
      },
      "execution_count": 4,
      "outputs": []
    },
    {
      "cell_type": "code",
      "source": [
        "print(sum_3_5())"
      ],
      "metadata": {
        "colab": {
          "base_uri": "https://localhost:8080/"
        },
        "id": "Bri-gEGN0Hj_",
        "outputId": "49701e04-1698-4429-c0d3-b57a10d4e1a4"
      },
      "execution_count": 6,
      "outputs": [
        {
          "output_type": "stream",
          "name": "stdout",
          "text": [
            "233168\n"
          ]
        }
      ]
    },
    {
      "cell_type": "code",
      "source": [
        "result = 0\n",
        "for n in range(1,1000):\n",
        "  if n % 3 == 0 or n % 5 == 0:\n",
        "    result += n\n",
        "\n",
        "print(result)"
      ],
      "metadata": {
        "colab": {
          "base_uri": "https://localhost:8080/"
        },
        "id": "EAAJq_OD0HqS",
        "outputId": "517f6cce-8704-45a4-b67e-d48f6a5a67cd"
      },
      "execution_count": 7,
      "outputs": [
        {
          "output_type": "stream",
          "name": "stdout",
          "text": [
            "233168\n"
          ]
        }
      ]
    },
    {
      "cell_type": "code",
      "source": [
        "# total page calculator\n",
        "def Totalpage(m,n):\n",
        "  if m % n == 0:\n",
        "    return m//n\n",
        "  else:\n",
        "    return m//n + 1"
      ],
      "metadata": {
        "id": "OjMlW7YZz6x3"
      },
      "execution_count": 9,
      "outputs": []
    },
    {
      "cell_type": "code",
      "source": [
        "print(Totalpage(7,2))"
      ],
      "metadata": {
        "colab": {
          "base_uri": "https://localhost:8080/"
        },
        "id": "JuE-t4K1z66g",
        "outputId": "111cc740-d8d0-4708-fb43-d6205eddcd07"
      },
      "execution_count": 11,
      "outputs": [
        {
          "output_type": "stream",
          "name": "stdout",
          "text": [
            "4\n"
          ]
        }
      ]
    },
    {
      "cell_type": "code",
      "source": [
        "# memo.py\n",
        "# import sys\n",
        "\n",
        "# if sys.argv[1] == '-a':\n",
        "#   content = sys.argv[2]\n",
        "#   f = open(\"memo.txt\", \"a\")\n",
        "#   f.write(content)\n",
        "#   f.close()\n",
        "\n",
        "# else:\n",
        "#   f = open(\"memo.txt\", \"r\")\n",
        "#   print(f.read())\n",
        "#   f.close()"
      ],
      "metadata": {
        "id": "zIJitGxYz7RX"
      },
      "execution_count": null,
      "outputs": []
    },
    {
      "cell_type": "code",
      "source": [
        "# memo file -a: add content, -v: view content\n",
        "\n",
        "!python memo.py -a \"Life is too short\""
      ],
      "metadata": {
        "id": "sMfw8qsI2zWF"
      },
      "execution_count": 12,
      "outputs": []
    },
    {
      "cell_type": "code",
      "source": [
        "!python memo.py -v"
      ],
      "metadata": {
        "colab": {
          "base_uri": "https://localhost:8080/"
        },
        "id": "CvQhfn452zoA",
        "outputId": "a035b03d-ab70-4f7a-e130-5c1a1f7fb363"
      },
      "execution_count": 13,
      "outputs": [
        {
          "output_type": "stream",
          "name": "stdout",
          "text": [
            "Life is too short\n"
          ]
        }
      ]
    },
    {
      "cell_type": "code",
      "source": [
        "# import sys\n",
        "\n",
        "# f1 = open(sys.argv[1],'r') # src\n",
        "# content = f1.read()\n",
        "# content.replace('\\t',' ')\n",
        "# f1.close()\n",
        "\n",
        "# f2 = open(sys.argv[2],'w') # dst\n",
        "# f2.write(content)\n",
        "\n",
        "# f2.close()"
      ],
      "metadata": {
        "id": "--mmYW_945uh"
      },
      "execution_count": null,
      "outputs": []
    },
    {
      "cell_type": "code",
      "source": [
        "# change tab to space\n",
        "# python tabto4.py src dst"
      ],
      "metadata": {
        "id": "M-ZASXsy4lHy"
      },
      "execution_count": null,
      "outputs": []
    },
    {
      "cell_type": "code",
      "source": [
        "!python tabto4.py src.txt dst.txt"
      ],
      "metadata": {
        "id": "oQaLidcq4lNk"
      },
      "execution_count": 24,
      "outputs": []
    },
    {
      "cell_type": "code",
      "source": [
        "import glob, os\n",
        "for file in glob.glob(\"*.py\"):\n",
        "    print(file)"
      ],
      "metadata": {
        "colab": {
          "base_uri": "https://localhost:8080/"
        },
        "id": "WLO_IV508Rpw",
        "outputId": "8cd7d316-dc62-4ebd-f68d-eb3f9fd39073"
      },
      "execution_count": 25,
      "outputs": [
        {
          "output_type": "stream",
          "name": "stdout",
          "text": [
            "sub_dir_search.py\n",
            "memo.py\n",
            "tabto4.py\n"
          ]
        }
      ]
    },
    {
      "cell_type": "code",
      "source": [
        "# sub_dir_search.py\n",
        "from pathlib import Path\n",
        "list(Path(\".\").rglob(\"*.py\" ))"
      ],
      "metadata": {
        "colab": {
          "base_uri": "https://localhost:8080/"
        },
        "id": "-MAJY-LM9CQG",
        "outputId": "29d9a65f-a465-4d08-d4de-bfee79f29d21"
      },
      "execution_count": 27,
      "outputs": [
        {
          "output_type": "execute_result",
          "data": {
            "text/plain": [
              "[PosixPath('sub_dir_search.py'),\n",
              " PosixPath('memo.py'),\n",
              " PosixPath('tabto4.py'),\n",
              " PosixPath('drive/MyDrive/Colab Notebooks/smhrd_pj2_템플릿 실행 코드/test.py')]"
            ]
          },
          "metadata": {},
          "execution_count": 27
        }
      ]
    }
  ]
}