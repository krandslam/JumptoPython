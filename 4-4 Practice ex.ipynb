{
  "nbformat": 4,
  "nbformat_minor": 0,
  "metadata": {
    "colab": {
      "provenance": []
    },
    "kernelspec": {
      "name": "python3",
      "display_name": "Python 3"
    },
    "language_info": {
      "name": "python"
    }
  },
  "cells": [
    {
      "cell_type": "code",
      "execution_count": 2,
      "metadata": {
        "id": "EvK4n_4v1VXZ"
      },
      "outputs": [],
      "source": [
        "# 1\n",
        "def is_odd(number):\n",
        "  if number % 2 == 1:\n",
        "    return True\n",
        "  else:\n",
        "    return False"
      ]
    },
    {
      "cell_type": "code",
      "source": [
        "is_odd(3)"
      ],
      "metadata": {
        "colab": {
          "base_uri": "https://localhost:8080/"
        },
        "id": "LmZgR-MU1ljM",
        "outputId": "f2e3b546-82cf-42e1-b477-e3900b12f35b"
      },
      "execution_count": 3,
      "outputs": [
        {
          "output_type": "execute_result",
          "data": {
            "text/plain": [
              "True"
            ]
          },
          "metadata": {},
          "execution_count": 3
        }
      ]
    },
    {
      "cell_type": "code",
      "source": [
        "is_odd(6)"
      ],
      "metadata": {
        "colab": {
          "base_uri": "https://localhost:8080/"
        },
        "id": "kX-H_sD81mQ1",
        "outputId": "66c11542-7320-435d-8d7b-9e77b71fb11d"
      },
      "execution_count": 4,
      "outputs": [
        {
          "output_type": "execute_result",
          "data": {
            "text/plain": [
              "False"
            ]
          },
          "metadata": {},
          "execution_count": 4
        }
      ]
    },
    {
      "cell_type": "code",
      "source": [
        "# 2\n",
        "def avg_numbers(*args):\n",
        "  result = 0\n",
        "  for i in args:\n",
        "    result += i\n",
        "  return result/len(args)"
      ],
      "metadata": {
        "id": "uMGjtej-1mWH"
      },
      "execution_count": 9,
      "outputs": []
    },
    {
      "cell_type": "code",
      "source": [
        "avg_numbers(1,2)"
      ],
      "metadata": {
        "colab": {
          "base_uri": "https://localhost:8080/"
        },
        "id": "isG1T6Ek1mai",
        "outputId": "88c70125-8060-4ea1-e2dd-19c8e50e4649"
      },
      "execution_count": 10,
      "outputs": [
        {
          "output_type": "execute_result",
          "data": {
            "text/plain": [
              "1.5"
            ]
          },
          "metadata": {},
          "execution_count": 10
        }
      ]
    },
    {
      "cell_type": "code",
      "source": [
        "avg_numbers(1,2,3,4,5)"
      ],
      "metadata": {
        "colab": {
          "base_uri": "https://localhost:8080/"
        },
        "id": "_-KqZU6e2h-V",
        "outputId": "db058426-af08-4ff6-c3e5-7f4c046dd2e0"
      },
      "execution_count": 11,
      "outputs": [
        {
          "output_type": "execute_result",
          "data": {
            "text/plain": [
              "3.0"
            ]
          },
          "metadata": {},
          "execution_count": 11
        }
      ]
    },
    {
      "cell_type": "code",
      "source": [
        "# 3\n",
        "input1 = input(\"insert 1st number:\")\n",
        "input2 = input(\"insert 2nd number:\")\n",
        "\n",
        "total = int(input1)+int(input2)\n",
        "print(\"sum of two numbers: %d\" % total)"
      ],
      "metadata": {
        "colab": {
          "base_uri": "https://localhost:8080/"
        },
        "id": "MK_b73712gQf",
        "outputId": "6cc072f6-e204-4ecb-c06d-51a0a9b9290f"
      },
      "execution_count": 14,
      "outputs": [
        {
          "output_type": "stream",
          "name": "stdout",
          "text": [
            "insert 1st number:3\n",
            "insert 2nd number:6\n",
            "sum of two numbers: 9\n"
          ]
        }
      ]
    },
    {
      "cell_type": "code",
      "source": [
        "# 4\n",
        "print(\"you\" \"need\" \"python\")\n",
        "print(\"you\"+\"need\"+\"python\")\n",
        "print(\"you\", \"need\", \"python\")\n",
        "print(\"\".join([\"you\",\"need\",\"python\"]))"
      ],
      "metadata": {
        "colab": {
          "base_uri": "https://localhost:8080/"
        },
        "id": "89Kki_ok2gUW",
        "outputId": "215aa823-6780-405f-c48b-97d6dfc89b71"
      },
      "execution_count": 15,
      "outputs": [
        {
          "output_type": "stream",
          "name": "stdout",
          "text": [
            "youneedpython\n",
            "youneedpython\n",
            "you need python\n",
            "youneedpython\n"
          ]
        }
      ]
    },
    {
      "cell_type": "code",
      "source": [
        "# 5\n",
        "f1 = open(\"test.txt\", \"w\")\n",
        "f1. write(\"Life is too short\")\n",
        "f1.close()\n",
        "\n",
        "f2 = open(\"test.txt\", 'r')\n",
        "print(f2.read())\n",
        "f2.close()"
      ],
      "metadata": {
        "colab": {
          "base_uri": "https://localhost:8080/"
        },
        "id": "YDh2fRqP2gW9",
        "outputId": "b0c1e314-4b70-4749-84ff-97fb7ea12a1f"
      },
      "execution_count": 17,
      "outputs": [
        {
          "output_type": "stream",
          "name": "stdout",
          "text": [
            "Life is too short\n"
          ]
        }
      ]
    },
    {
      "cell_type": "code",
      "source": [
        "# 6\n",
        "user_input = input(\"write any to save:\")\n",
        "f = open('test.txt', 'a')\n",
        "f.write(user_input)\n",
        "f.write(\"\\n\")\n",
        "f.close()"
      ],
      "metadata": {
        "colab": {
          "base_uri": "https://localhost:8080/"
        },
        "id": "WaqAxPTs2gZ0",
        "outputId": "851d98d7-0293-431c-c31a-3ceaae8c5493"
      },
      "execution_count": 18,
      "outputs": [
        {
          "name": "stdout",
          "output_type": "stream",
          "text": [
            "write any to save:new line added\n"
          ]
        }
      ]
    },
    {
      "cell_type": "code",
      "source": [
        "f2 = open(\"test.txt\", 'r')\n",
        "print(f2.read())\n",
        "f2.close()"
      ],
      "metadata": {
        "colab": {
          "base_uri": "https://localhost:8080/"
        },
        "id": "FE9Gq9de2gdq",
        "outputId": "2bf94478-6822-42ed-a773-ff04beb110f1"
      },
      "execution_count": 19,
      "outputs": [
        {
          "output_type": "stream",
          "name": "stdout",
          "text": [
            "Life is too shortnew line added\n",
            "\n"
          ]
        }
      ]
    },
    {
      "cell_type": "code",
      "source": [
        "# 7\n",
        "f = open('test7.txt','w')\n",
        "f. write(\"Life is too short\\nyou need java\")\n",
        "f.close()\n",
        "\n",
        "f = open(\"test7.txt\", 'r')\n",
        "print(f.read())\n",
        "f.close()"
      ],
      "metadata": {
        "colab": {
          "base_uri": "https://localhost:8080/"
        },
        "id": "J0FcPw4x2ggX",
        "outputId": "91684662-c5e0-4f81-c452-4dae06c86984"
      },
      "execution_count": 24,
      "outputs": [
        {
          "output_type": "stream",
          "name": "stdout",
          "text": [
            "Life is too short\n",
            "you need java\n"
          ]
        }
      ]
    },
    {
      "cell_type": "code",
      "source": [
        "f = open('test7.txt','r')\n",
        "body = f.read()\n",
        "f.close()\n",
        "\n",
        "body = body.replace('java','python')\n",
        "\n",
        "f = open('test7.txt', 'w')\n",
        "f.write(body)\n",
        "f.close()"
      ],
      "metadata": {
        "id": "gMylBVTH2gjH"
      },
      "execution_count": 25,
      "outputs": []
    },
    {
      "cell_type": "code",
      "source": [
        "f = open(\"test7.txt\", 'r')\n",
        "print(f.read())\n",
        "f.close()"
      ],
      "metadata": {
        "colab": {
          "base_uri": "https://localhost:8080/"
        },
        "id": "wg5LAUHQ2gmS",
        "outputId": "4144aa17-763f-46a5-e049-db06a852172a"
      },
      "execution_count": 26,
      "outputs": [
        {
          "output_type": "stream",
          "name": "stdout",
          "text": [
            "Life is too short\n",
            "you need python\n"
          ]
        }
      ]
    }
  ]
}