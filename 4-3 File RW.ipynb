{
  "nbformat": 4,
  "nbformat_minor": 0,
  "metadata": {
    "colab": {
      "provenance": []
    },
    "kernelspec": {
      "name": "python3",
      "display_name": "Python 3"
    },
    "language_info": {
      "name": "python"
    }
  },
  "cells": [
    {
      "cell_type": "code",
      "source": [
        "from google.colab import drive\n",
        "drive.mount('/drive')"
      ],
      "metadata": {
        "colab": {
          "base_uri": "https://localhost:8080/"
        },
        "id": "118J0gEVogq6",
        "outputId": "32350a67-304b-4e89-b675-84edf2a35425"
      },
      "execution_count": 8,
      "outputs": [
        {
          "output_type": "stream",
          "name": "stdout",
          "text": [
            "Mounted at /drive\n"
          ]
        }
      ]
    },
    {
      "cell_type": "code",
      "execution_count": 13,
      "metadata": {
        "id": "LnDmy0mPhEj0"
      },
      "outputs": [],
      "source": [
        "f = open(\"newfile.txt\", 'w')\n",
        "f.close()"
      ]
    },
    {
      "cell_type": "code",
      "source": [
        "f = open(\"newfile.txt\", 'w')\n",
        "for i in range(1, 11):\n",
        "  data = \"line no. %d \\n\" % i\n",
        "  f.write(data)\n",
        "f.close()"
      ],
      "metadata": {
        "id": "O7mZhwEJnYa-"
      },
      "execution_count": 14,
      "outputs": []
    },
    {
      "cell_type": "code",
      "source": [
        "f = open(\"newfile.txt\", 'r')\n",
        "line = f.readline()\n",
        "print(line)\n",
        "f.close()"
      ],
      "metadata": {
        "colab": {
          "base_uri": "https://localhost:8080/"
        },
        "id": "15zQKT3BnYey",
        "outputId": "979c8746-f895-4793-ad95-0184f2644f84"
      },
      "execution_count": 16,
      "outputs": [
        {
          "output_type": "stream",
          "name": "stdout",
          "text": [
            "line no. 1 \n",
            "\n"
          ]
        }
      ]
    },
    {
      "cell_type": "code",
      "source": [
        "f = open(\"newfile.txt\", 'r')\n",
        "while True:\n",
        "  line = f.readline()\n",
        "  if not line: break\n",
        "  print(line)\n",
        "f.close()"
      ],
      "metadata": {
        "colab": {
          "base_uri": "https://localhost:8080/"
        },
        "id": "3f3Go8plnYh9",
        "outputId": "22aea195-9340-4220-c45a-73447f936a2d"
      },
      "execution_count": 17,
      "outputs": [
        {
          "output_type": "stream",
          "name": "stdout",
          "text": [
            "line no. 1 \n",
            "\n",
            "line no. 2 \n",
            "\n",
            "line no. 3 \n",
            "\n",
            "line no. 4 \n",
            "\n",
            "line no. 5 \n",
            "\n",
            "line no. 6 \n",
            "\n",
            "line no. 7 \n",
            "\n",
            "line no. 8 \n",
            "\n",
            "line no. 9 \n",
            "\n",
            "line no. 10 \n",
            "\n"
          ]
        }
      ]
    },
    {
      "cell_type": "code",
      "source": [
        "f = open(\"newfile.txt\", 'r')\n",
        "lines = f.readlines()\n",
        "for line in lines:\n",
        "  print(line)\n",
        "f.close()"
      ],
      "metadata": {
        "colab": {
          "base_uri": "https://localhost:8080/"
        },
        "id": "shXZKaAAnYn0",
        "outputId": "98b0faaa-0dc9-4178-82a4-657d62811f92"
      },
      "execution_count": 19,
      "outputs": [
        {
          "output_type": "stream",
          "name": "stdout",
          "text": [
            "line no. 1 \n",
            "\n",
            "line no. 2 \n",
            "\n",
            "line no. 3 \n",
            "\n",
            "line no. 4 \n",
            "\n",
            "line no. 5 \n",
            "\n",
            "line no. 6 \n",
            "\n",
            "line no. 7 \n",
            "\n",
            "line no. 8 \n",
            "\n",
            "line no. 9 \n",
            "\n",
            "line no. 10 \n",
            "\n"
          ]
        }
      ]
    },
    {
      "cell_type": "code",
      "source": [
        "f = open(\"newfile.txt\", 'r')\n",
        "data = f.read()\n",
        "print(data)\n",
        "f.close()"
      ],
      "metadata": {
        "colab": {
          "base_uri": "https://localhost:8080/"
        },
        "id": "o6nv2MzvnYq9",
        "outputId": "f0702273-fdd6-499e-8279-8ff957a47689"
      },
      "execution_count": 20,
      "outputs": [
        {
          "output_type": "stream",
          "name": "stdout",
          "text": [
            "line no. 1 \n",
            "line no. 2 \n",
            "line no. 3 \n",
            "line no. 4 \n",
            "line no. 5 \n",
            "line no. 6 \n",
            "line no. 7 \n",
            "line no. 8 \n",
            "line no. 9 \n",
            "line no. 10 \n",
            "\n"
          ]
        }
      ]
    },
    {
      "cell_type": "code",
      "source": [
        "f = open(\"newfile.txt\", 'a') # add / edit\n",
        "for i in range(11,20):\n",
        "  data = \"line no.%d \\n\" % i\n",
        "  f.write(data)\n",
        "f.close()"
      ],
      "metadata": {
        "id": "lep-bLGtnYuG"
      },
      "execution_count": 23,
      "outputs": []
    },
    {
      "cell_type": "code",
      "source": [
        "f = open(\"newfile.txt\", 'r')\n",
        "data = f.read()\n",
        "print(data)\n",
        "f.close()"
      ],
      "metadata": {
        "colab": {
          "base_uri": "https://localhost:8080/"
        },
        "id": "zRJu0uvBnYxQ",
        "outputId": "b47047a6-147e-47f5-e168-a4d67aad3678"
      },
      "execution_count": 24,
      "outputs": [
        {
          "output_type": "stream",
          "name": "stdout",
          "text": [
            "line no. 1 \n",
            "line no. 2 \n",
            "line no. 3 \n",
            "line no. 4 \n",
            "line no. 5 \n",
            "line no. 6 \n",
            "line no. 7 \n",
            "line no. 8 \n",
            "line no. 9 \n",
            "line no. 10 \n",
            "line no.11 \n",
            "line no.12 \n",
            "line no.13 \n",
            "line no.14 \n",
            "line no.15 \n",
            "line no.16 \n",
            "line no.17 \n",
            "line no.18 \n",
            "line no.19 \n",
            "\n"
          ]
        }
      ]
    },
    {
      "cell_type": "code",
      "source": [
        "with open(\"newfile2.txt\", \"w\") as f: # open and close automatically\n",
        "  f.write(\"Life is too short, you need python\")"
      ],
      "metadata": {
        "id": "qZjhJFZdnYz4"
      },
      "execution_count": 26,
      "outputs": []
    }
  ]
}