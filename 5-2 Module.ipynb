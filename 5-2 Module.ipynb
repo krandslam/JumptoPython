{
  "nbformat": 4,
  "nbformat_minor": 0,
  "metadata": {
    "colab": {
      "provenance": []
    },
    "kernelspec": {
      "name": "python3",
      "display_name": "Python 3"
    },
    "language_info": {
      "name": "python"
    }
  },
  "cells": [
    {
      "cell_type": "code",
      "execution_count": null,
      "metadata": {
        "id": "U_wFZIeGy4Bp"
      },
      "outputs": [],
      "source": [
        "# Module - func + class"
      ]
    },
    {
      "cell_type": "code",
      "source": [
        "# mod1.py\n",
        "# def add(a,b):\n",
        "#   return a + b\n",
        "\n",
        "# def sub(a,b):\n",
        "#   return a - b\n",
        "\n",
        "# if __name__==\"__main__\":\n",
        "#   print(add(1,4))\n",
        "#   print(sub(4,2))"
      ],
      "metadata": {
        "id": "aJuRq2Nm53Fp"
      },
      "execution_count": null,
      "outputs": []
    },
    {
      "cell_type": "code",
      "source": [
        "from google.colab import drive\n",
        "drive.mount('/content/drive')"
      ],
      "metadata": {
        "colab": {
          "base_uri": "https://localhost:8080/"
        },
        "id": "Ovu501Vty96b",
        "outputId": "72c4b882-3ae0-4cb8-8c56-b6ab727dff6b"
      },
      "execution_count": 1,
      "outputs": [
        {
          "output_type": "stream",
          "name": "stdout",
          "text": [
            "Drive already mounted at /content/drive; to attempt to forcibly remount, call drive.mount(\"/content/drive\", force_remount=True).\n"
          ]
        }
      ]
    },
    {
      "cell_type": "code",
      "source": [
        "import mod1"
      ],
      "metadata": {
        "id": "LNUaAldcy99Y"
      },
      "execution_count": 10,
      "outputs": []
    },
    {
      "cell_type": "code",
      "source": [
        "print(mod1.add(3,4))"
      ],
      "metadata": {
        "colab": {
          "base_uri": "https://localhost:8080/"
        },
        "id": "9DwxUsA5y-AL",
        "outputId": "0c1c98bd-2a31-4ac8-dd5c-0b67843041aa"
      },
      "execution_count": 11,
      "outputs": [
        {
          "output_type": "stream",
          "name": "stdout",
          "text": [
            "7\n"
          ]
        }
      ]
    },
    {
      "cell_type": "code",
      "source": [
        "print(mod1.sub(4,2))"
      ],
      "metadata": {
        "colab": {
          "base_uri": "https://localhost:8080/"
        },
        "id": "agO5igedy-D8",
        "outputId": "1e61bc98-02cb-4a89-f93f-0d2e9d745440"
      },
      "execution_count": 12,
      "outputs": [
        {
          "output_type": "stream",
          "name": "stdout",
          "text": [
            "2\n"
          ]
        }
      ]
    },
    {
      "cell_type": "code",
      "source": [
        "from mod1 import add\n",
        "add(3,4)"
      ],
      "metadata": {
        "colab": {
          "base_uri": "https://localhost:8080/"
        },
        "id": "UmDLYLbDy-Gl",
        "outputId": "658a74be-ccf6-495f-847d-9d861c228396"
      },
      "execution_count": 13,
      "outputs": [
        {
          "output_type": "execute_result",
          "data": {
            "text/plain": [
              "7"
            ]
          },
          "metadata": {},
          "execution_count": 13
        }
      ]
    },
    {
      "cell_type": "code",
      "source": [
        "from mod1 import add,sub"
      ],
      "metadata": {
        "id": "-lpSclCG2Lvf"
      },
      "execution_count": 14,
      "outputs": []
    },
    {
      "cell_type": "code",
      "source": [
        "from mod1 import * # same thing as above"
      ],
      "metadata": {
        "id": "vKrSHa1F2Lyy"
      },
      "execution_count": 15,
      "outputs": []
    },
    {
      "cell_type": "code",
      "source": [
        "# mod1.py\n",
        "# def add(a,b):\n",
        "#   return a + b\n",
        "\n",
        "# def sub(a,b):\n",
        "#   return a - b\n",
        "\n",
        "# print(add(1,4))\n",
        "# print(sub(4,2))"
      ],
      "metadata": {
        "id": "C9poKUX359ZB"
      },
      "execution_count": null,
      "outputs": []
    },
    {
      "cell_type": "code",
      "source": [
        "!cp drive/MyDrive/mod1.py"
      ],
      "metadata": {
        "colab": {
          "base_uri": "https://localhost:8080/"
        },
        "id": "cRTmq5DS3A8_",
        "outputId": "c34f986b-9d1c-4683-8b3b-9ba0dc7616a6"
      },
      "execution_count": 3,
      "outputs": [
        {
          "output_type": "stream",
          "name": "stdout",
          "text": [
            "cp: missing destination file operand after 'drive/MyDrive/mod1.py'\n",
            "Try 'cp --help' for more information.\n"
          ]
        }
      ]
    },
    {
      "cell_type": "code",
      "source": [
        "import mod1"
      ],
      "metadata": {
        "colab": {
          "base_uri": "https://localhost:8080/"
        },
        "id": "Gr31AwYg3A_2",
        "outputId": "0392f4a8-e191-4b14-ba1f-5e8b9c263164"
      },
      "execution_count": 4,
      "outputs": [
        {
          "output_type": "stream",
          "name": "stdout",
          "text": [
            "5\n",
            "2\n"
          ]
        }
      ]
    },
    {
      "cell_type": "code",
      "source": [
        "# to not run the print ones add if __name__ == \"__main__\"\n",
        "# only gonna print when actually run the .py (python mod1.py)"
      ],
      "metadata": {
        "id": "QiitEZnz3BDr"
      },
      "execution_count": null,
      "outputs": []
    },
    {
      "cell_type": "code",
      "source": [
        "# mod1.py\n",
        "# def add(a,b):\n",
        "#   return a + b\n",
        "\n",
        "# def sub(a,b):\n",
        "#   return a - b\n",
        "\n",
        "# if __name__==\"__main__\":\n",
        "#   print(add(1,4))\n",
        "#   print(sub(4,2))"
      ],
      "metadata": {
        "id": "zHb2DEI65A6Z"
      },
      "execution_count": null,
      "outputs": []
    },
    {
      "cell_type": "code",
      "source": [
        "import mod1"
      ],
      "metadata": {
        "id": "hAvm_BkG5BEJ"
      },
      "execution_count": 5,
      "outputs": []
    },
    {
      "cell_type": "code",
      "source": [
        "!cp drive/MyDrive/mod2.py"
      ],
      "metadata": {
        "colab": {
          "base_uri": "https://localhost:8080/"
        },
        "id": "j4icAsO76XD3",
        "outputId": "72774966-c906-49c5-8af3-3937cf113c21"
      },
      "execution_count": 2,
      "outputs": [
        {
          "output_type": "stream",
          "name": "stdout",
          "text": [
            "cp: missing destination file operand after 'drive/MyDrive/mod2.py'\n",
            "Try 'cp --help' for more information.\n"
          ]
        }
      ]
    },
    {
      "cell_type": "code",
      "source": [
        "# mod2.py\n",
        "# PI = 3.141592\n",
        "\n",
        "# def add(a, b):\n",
        "#   return a+b\n",
        "\n",
        "# class Math:\n",
        "#   def solv(self,r):\n",
        "#     return PI * (r**2)"
      ],
      "metadata": {
        "id": "fzk6uC0-62fR"
      },
      "execution_count": 17,
      "outputs": []
    },
    {
      "cell_type": "code",
      "source": [
        "import mod2"
      ],
      "metadata": {
        "id": "fVKyXfEQ6XJo"
      },
      "execution_count": 3,
      "outputs": []
    },
    {
      "cell_type": "code",
      "source": [
        "a = mod2.Math()"
      ],
      "metadata": {
        "id": "14W9qOsr6XNQ"
      },
      "execution_count": 4,
      "outputs": []
    },
    {
      "cell_type": "code",
      "source": [
        "print(a.solv(2))"
      ],
      "metadata": {
        "colab": {
          "base_uri": "https://localhost:8080/"
        },
        "id": "01--mw0F6zQ1",
        "outputId": "a6e34d5b-3cef-4101-bc2e-a327ad951e14"
      },
      "execution_count": 5,
      "outputs": [
        {
          "output_type": "stream",
          "name": "stdout",
          "text": [
            "12.566368\n"
          ]
        }
      ]
    },
    {
      "cell_type": "code",
      "source": [
        "print(mod2.add(mod2.PI,4.4))"
      ],
      "metadata": {
        "colab": {
          "base_uri": "https://localhost:8080/"
        },
        "id": "89PWHC166zUp",
        "outputId": "1bc31ed7-b9f0-4899-b520-ccffb2c3a5af"
      },
      "execution_count": 6,
      "outputs": [
        {
          "output_type": "stream",
          "name": "stdout",
          "text": [
            "7.5415920000000005\n"
          ]
        }
      ]
    },
    {
      "cell_type": "code",
      "source": [
        "# ex\n",
        "a.solv(5)"
      ],
      "metadata": {
        "colab": {
          "base_uri": "https://localhost:8080/"
        },
        "id": "r5cUnDdB6zYB",
        "outputId": "bc355f9a-7ea2-4b1f-a78c-b6b4085bb843"
      },
      "execution_count": 7,
      "outputs": [
        {
          "output_type": "execute_result",
          "data": {
            "text/plain": [
              "78.5398"
            ]
          },
          "metadata": {},
          "execution_count": 7
        }
      ]
    },
    {
      "cell_type": "code",
      "source": [
        "# modtest.py\n",
        "# import mod2 - you can import within .py file \n",
        "# result = mod2.add(3,4) \n",
        "# print(result)"
      ],
      "metadata": {
        "id": "M1_vTZSS6zbk"
      },
      "execution_count": null,
      "outputs": []
    }
  ]
}