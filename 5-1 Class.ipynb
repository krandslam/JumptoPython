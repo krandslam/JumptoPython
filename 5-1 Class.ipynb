{
  "nbformat": 4,
  "nbformat_minor": 0,
  "metadata": {
    "colab": {
      "provenance": []
    },
    "kernelspec": {
      "name": "python3",
      "display_name": "Python 3"
    },
    "language_info": {
      "name": "python"
    }
  },
  "cells": [
    {
      "cell_type": "code",
      "execution_count": 1,
      "metadata": {
        "colab": {
          "base_uri": "https://localhost:8080/"
        },
        "id": "DeJ7BI9su0w2",
        "outputId": "e7602245-9b5e-4934-92b0-a692f8410883"
      },
      "outputs": [
        {
          "output_type": "stream",
          "name": "stdout",
          "text": [
            "3\n",
            "7\n"
          ]
        }
      ],
      "source": [
        "result = 0\n",
        "\n",
        "def add(num):\n",
        "  global result\n",
        "  result += num\n",
        "  return result\n",
        "\n",
        "print(add(3))\n",
        "print(add(4))"
      ]
    },
    {
      "cell_type": "code",
      "source": [
        "# much easier to add functions\n",
        "class Calculator: # cookie cutter - class\n",
        "  def __init__(self):\n",
        "    self.result = 0\n",
        "  \n",
        "  def add(self,num):\n",
        "    self.result += num\n",
        "    return self.result\n",
        "\n",
        "  def sub(self,num):\n",
        "    self.result -= num\n",
        "    return self.result\n",
        "\n",
        "cal1 = Calculator() # cookie - object\n",
        "cal2 = Calculator()"
      ],
      "metadata": {
        "id": "0_94O88uwBSw"
      },
      "execution_count": 4,
      "outputs": []
    },
    {
      "cell_type": "code",
      "source": [
        "print(cal1.add(3))\n",
        "print(cal1.add(7))\n",
        "print(cal2.add(3))\n",
        "print(cal2.add(10))"
      ],
      "metadata": {
        "colab": {
          "base_uri": "https://localhost:8080/"
        },
        "id": "umeYLeuWwBXH",
        "outputId": "ec1919ca-7933-48c0-c1c2-06831e3dcab6"
      },
      "execution_count": 3,
      "outputs": [
        {
          "output_type": "stream",
          "name": "stdout",
          "text": [
            "3\n",
            "10\n",
            "3\n",
            "13\n"
          ]
        }
      ]
    },
    {
      "cell_type": "code",
      "source": [
        "class FourCal:\n",
        "  def __init__(self):\n",
        "    self.num1 = 0\n",
        "    self.num2 = 0\n",
        "\n",
        "  def setdata(self,num1,num2):\n",
        "    self.num1 = num1\n",
        "    self.num2 = num2\n",
        "\n",
        "  def add(self):\n",
        "    return self.num1+self.num2\n",
        "\n",
        "  def sub(self):\n",
        "    return self.num1-self.num2\n",
        "\n",
        "  def mul(self):\n",
        "    return self.num1*self.num2\n",
        "\n",
        "  def div(self):\n",
        "    return self.num1/self.num2"
      ],
      "metadata": {
        "id": "n3hAxgszwBa_"
      },
      "execution_count": 5,
      "outputs": []
    },
    {
      "cell_type": "code",
      "source": [
        "a = FourCal()\n",
        "a.setdata(4, 2) # a: self, 4: num1, 2: num2"
      ],
      "metadata": {
        "id": "xRE2WdDTwBeP"
      },
      "execution_count": 6,
      "outputs": []
    },
    {
      "cell_type": "code",
      "source": [
        "print(a.add())\n",
        "print(a.sub())\n",
        "print(a.mul())\n",
        "print(a.div())"
      ],
      "metadata": {
        "colab": {
          "base_uri": "https://localhost:8080/"
        },
        "id": "zG1WJXH9wBhP",
        "outputId": "ea71ce4c-7dd5-4c94-8234-c1504dde8862"
      },
      "execution_count": 7,
      "outputs": [
        {
          "output_type": "stream",
          "name": "stdout",
          "text": [
            "6\n",
            "2\n",
            "8\n",
            "2.0\n"
          ]
        }
      ]
    },
    {
      "cell_type": "code",
      "source": [
        "print(a.num1)"
      ],
      "metadata": {
        "colab": {
          "base_uri": "https://localhost:8080/"
        },
        "id": "uFtQXH7NwBkn",
        "outputId": "25ada920-7761-4b00-8602-7c6b24b8d999"
      },
      "execution_count": 8,
      "outputs": [
        {
          "output_type": "stream",
          "name": "stdout",
          "text": [
            "4\n"
          ]
        }
      ]
    },
    {
      "cell_type": "code",
      "source": [
        "b = FourCal()\n",
        "b.setdata(3,7)"
      ],
      "metadata": {
        "id": "liRMaybFwBnv"
      },
      "execution_count": 9,
      "outputs": []
    },
    {
      "cell_type": "code",
      "source": [
        "print(id(a.num1)) # different location\n",
        "print(id(b.num1))"
      ],
      "metadata": {
        "colab": {
          "base_uri": "https://localhost:8080/"
        },
        "id": "LhzTt7AWwBqn",
        "outputId": "3932cf42-7998-40ef-9e88-10e161e2ef59"
      },
      "execution_count": 10,
      "outputs": [
        {
          "output_type": "stream",
          "name": "stdout",
          "text": [
            "11531008\n",
            "11530976\n"
          ]
        }
      ]
    },
    {
      "cell_type": "code",
      "source": [
        "# Constructor"
      ],
      "metadata": {
        "id": "oV4aM-eCwBtv"
      },
      "execution_count": 11,
      "outputs": []
    },
    {
      "cell_type": "code",
      "source": [
        "class FourCal:\n",
        "  def __init__(self,num1,num2): # Constructor part\n",
        "    self.num1 = num1\n",
        "    self.num2 = num2\n",
        "\n",
        "  def setdata(self,num1,num2):\n",
        "    self.num1 = num1\n",
        "    self.num2 = num2\n",
        "\n",
        "  def add(self):\n",
        "    return self.num1+self.num2\n",
        "\n",
        "  def sub(self):\n",
        "    return self.num1-self.num2\n",
        "\n",
        "  def mul(self):\n",
        "    return self.num1*self.num2\n",
        "\n",
        "  def div(self):\n",
        "    return self.num1/self.num2"
      ],
      "metadata": {
        "id": "VN4LTDhUwBxH"
      },
      "execution_count": 14,
      "outputs": []
    },
    {
      "cell_type": "code",
      "source": [
        "a = FourCal(4,2)"
      ],
      "metadata": {
        "id": "gdbVHZ-EwB0P"
      },
      "execution_count": 15,
      "outputs": []
    },
    {
      "cell_type": "code",
      "source": [
        "print(a.num1)"
      ],
      "metadata": {
        "colab": {
          "base_uri": "https://localhost:8080/"
        },
        "id": "iXHssWZgwB3H",
        "outputId": "51a6c970-71d5-402e-b002-a7c80d1de47c"
      },
      "execution_count": 16,
      "outputs": [
        {
          "output_type": "stream",
          "name": "stdout",
          "text": [
            "4\n"
          ]
        }
      ]
    },
    {
      "cell_type": "code",
      "source": [
        "a.add()"
      ],
      "metadata": {
        "colab": {
          "base_uri": "https://localhost:8080/"
        },
        "id": "R-hHagXtwB6G",
        "outputId": "809ab8c9-1088-44b9-fe05-20f2b8b9792e"
      },
      "execution_count": 17,
      "outputs": [
        {
          "output_type": "execute_result",
          "data": {
            "text/plain": [
              "6"
            ]
          },
          "metadata": {},
          "execution_count": 17
        }
      ]
    },
    {
      "cell_type": "code",
      "source": [
        "# Inheritance - make class already exist + new func"
      ],
      "metadata": {
        "id": "vQO7CWF9wB9P"
      },
      "execution_count": null,
      "outputs": []
    },
    {
      "cell_type": "code",
      "source": [
        "class MoreFourCal(FourCal): # make class already exist\n",
        "  pass"
      ],
      "metadata": {
        "id": "Sw6s2ojjwCA3"
      },
      "execution_count": 18,
      "outputs": []
    },
    {
      "cell_type": "code",
      "source": [
        "a = MoreFourCal(4,2)"
      ],
      "metadata": {
        "id": "aZoeH1IkwCDn"
      },
      "execution_count": 19,
      "outputs": []
    },
    {
      "cell_type": "code",
      "source": [
        "a.add()"
      ],
      "metadata": {
        "colab": {
          "base_uri": "https://localhost:8080/"
        },
        "id": "Lc4CTUiF1RNj",
        "outputId": "790a6e45-4d5b-4662-97f7-a30652e71e98"
      },
      "execution_count": 20,
      "outputs": [
        {
          "output_type": "execute_result",
          "data": {
            "text/plain": [
              "6"
            ]
          },
          "metadata": {},
          "execution_count": 20
        }
      ]
    },
    {
      "cell_type": "code",
      "source": [
        "a.mul()"
      ],
      "metadata": {
        "colab": {
          "base_uri": "https://localhost:8080/"
        },
        "id": "NbbwcSiL1QYc",
        "outputId": "19bb49b4-3c74-40f1-a469-1cccf61fae05"
      },
      "execution_count": 21,
      "outputs": [
        {
          "output_type": "execute_result",
          "data": {
            "text/plain": [
              "8"
            ]
          },
          "metadata": {},
          "execution_count": 21
        }
      ]
    },
    {
      "cell_type": "code",
      "source": [
        "a.div()"
      ],
      "metadata": {
        "colab": {
          "base_uri": "https://localhost:8080/"
        },
        "id": "JmkLPfSd1QbY",
        "outputId": "0c421c74-5617-4c6b-d25d-4db4aad7c38c"
      },
      "execution_count": 22,
      "outputs": [
        {
          "output_type": "execute_result",
          "data": {
            "text/plain": [
              "2.0"
            ]
          },
          "metadata": {},
          "execution_count": 22
        }
      ]
    },
    {
      "cell_type": "code",
      "source": [
        "a.sub()"
      ],
      "metadata": {
        "colab": {
          "base_uri": "https://localhost:8080/"
        },
        "id": "1tuwvHHG1Qef",
        "outputId": "aa636b70-e8c8-4e0b-b0d8-c02b15e46474"
      },
      "execution_count": 24,
      "outputs": [
        {
          "output_type": "execute_result",
          "data": {
            "text/plain": [
              "2"
            ]
          },
          "metadata": {},
          "execution_count": 24
        }
      ]
    },
    {
      "cell_type": "code",
      "source": [
        "class MoreFourCal(FourCal): # make class already exist + new func\n",
        "  def pow(self):\n",
        "    return self.num1 ** self.num2"
      ],
      "metadata": {
        "id": "acyTOOcf1Qii"
      },
      "execution_count": 25,
      "outputs": []
    },
    {
      "cell_type": "code",
      "source": [
        "a = MoreFourCal(4,2)\n",
        "a.pow()"
      ],
      "metadata": {
        "colab": {
          "base_uri": "https://localhost:8080/"
        },
        "id": "6dAn9ZkQ1QmL",
        "outputId": "30a7d2a8-89a6-46a4-9a7e-1dc39832182c"
      },
      "execution_count": 27,
      "outputs": [
        {
          "output_type": "execute_result",
          "data": {
            "text/plain": [
              "16"
            ]
          },
          "metadata": {},
          "execution_count": 27
        }
      ]
    },
    {
      "cell_type": "code",
      "source": [
        "a = MoreFourCal(4,0)\n",
        "a.div()"
      ],
      "metadata": {
        "colab": {
          "base_uri": "https://localhost:8080/",
          "height": 284
        },
        "id": "d1S75M1v1Qpv",
        "outputId": "db496048-3999-4b6b-a4e0-378d42bac0c8"
      },
      "execution_count": 28,
      "outputs": [
        {
          "output_type": "error",
          "ename": "ZeroDivisionError",
          "evalue": "ignored",
          "traceback": [
            "\u001b[0;31m---------------------------------------------------------------------------\u001b[0m",
            "\u001b[0;31mZeroDivisionError\u001b[0m                         Traceback (most recent call last)",
            "\u001b[0;32m<ipython-input-28-c807a23e4a01>\u001b[0m in \u001b[0;36m<module>\u001b[0;34m\u001b[0m\n\u001b[1;32m      1\u001b[0m \u001b[0ma\u001b[0m \u001b[0;34m=\u001b[0m \u001b[0mMoreFourCal\u001b[0m\u001b[0;34m(\u001b[0m\u001b[0;36m4\u001b[0m\u001b[0;34m,\u001b[0m\u001b[0;36m0\u001b[0m\u001b[0;34m)\u001b[0m\u001b[0;34m\u001b[0m\u001b[0;34m\u001b[0m\u001b[0m\n\u001b[0;32m----> 2\u001b[0;31m \u001b[0ma\u001b[0m\u001b[0;34m.\u001b[0m\u001b[0mdiv\u001b[0m\u001b[0;34m(\u001b[0m\u001b[0;34m)\u001b[0m\u001b[0;34m\u001b[0m\u001b[0;34m\u001b[0m\u001b[0m\n\u001b[0m",
            "\u001b[0;32m<ipython-input-14-cc18f737c534>\u001b[0m in \u001b[0;36mdiv\u001b[0;34m(self)\u001b[0m\n\u001b[1;32m     18\u001b[0m \u001b[0;34m\u001b[0m\u001b[0m\n\u001b[1;32m     19\u001b[0m   \u001b[0;32mdef\u001b[0m \u001b[0mdiv\u001b[0m\u001b[0;34m(\u001b[0m\u001b[0mself\u001b[0m\u001b[0;34m)\u001b[0m\u001b[0;34m:\u001b[0m\u001b[0;34m\u001b[0m\u001b[0;34m\u001b[0m\u001b[0m\n\u001b[0;32m---> 20\u001b[0;31m     \u001b[0;32mreturn\u001b[0m \u001b[0mself\u001b[0m\u001b[0;34m.\u001b[0m\u001b[0mnum1\u001b[0m\u001b[0;34m/\u001b[0m\u001b[0mself\u001b[0m\u001b[0;34m.\u001b[0m\u001b[0mnum2\u001b[0m\u001b[0;34m\u001b[0m\u001b[0;34m\u001b[0m\u001b[0m\n\u001b[0m",
            "\u001b[0;31mZeroDivisionError\u001b[0m: division by zero"
          ]
        }
      ]
    },
    {
      "cell_type": "code",
      "source": [
        "class SafeFourCal(FourCal): # make class already exist + new func\n",
        "  def div(self):\n",
        "    if self.num2 == 0:\n",
        "      return False\n",
        "    else:\n",
        "      return self.num1 / self.num2"
      ],
      "metadata": {
        "id": "LFurAk7f1Qs3"
      },
      "execution_count": 29,
      "outputs": []
    },
    {
      "cell_type": "code",
      "source": [
        "a = SafeFourCal(4,0)\n",
        "a.div()"
      ],
      "metadata": {
        "colab": {
          "base_uri": "https://localhost:8080/"
        },
        "id": "BAYVXM7p2PGd",
        "outputId": "9975058b-16eb-4590-c009-f5f80183f0b0"
      },
      "execution_count": 30,
      "outputs": [
        {
          "output_type": "execute_result",
          "data": {
            "text/plain": [
              "False"
            ]
          },
          "metadata": {},
          "execution_count": 30
        }
      ]
    },
    {
      "cell_type": "code",
      "source": [
        "# Class variable\n",
        "class Family:\n",
        "  lastname = \"Kim\""
      ],
      "metadata": {
        "id": "uV6sTPSk2S3q"
      },
      "execution_count": 31,
      "outputs": []
    },
    {
      "cell_type": "code",
      "source": [
        "a = Family()\n",
        "b = Family()"
      ],
      "metadata": {
        "id": "WiDizFLO2S7X"
      },
      "execution_count": 32,
      "outputs": []
    },
    {
      "cell_type": "code",
      "source": [
        "print(a.lastname)\n",
        "print(b.lastname)"
      ],
      "metadata": {
        "colab": {
          "base_uri": "https://localhost:8080/"
        },
        "id": "50QnmMCV2S-n",
        "outputId": "4318b0cc-efcf-459a-ca78-22c6374cf626"
      },
      "execution_count": 34,
      "outputs": [
        {
          "output_type": "stream",
          "name": "stdout",
          "text": [
            "Kim\n",
            "Kim\n"
          ]
        }
      ]
    },
    {
      "cell_type": "code",
      "source": [
        "Family.lastname = \"Park\""
      ],
      "metadata": {
        "id": "aFhW-Oc52TCa"
      },
      "execution_count": 35,
      "outputs": []
    },
    {
      "cell_type": "code",
      "source": [
        "print(a.lastname)\n",
        "print(b.lastname)"
      ],
      "metadata": {
        "colab": {
          "base_uri": "https://localhost:8080/"
        },
        "id": "1B4h6tEq2TFR",
        "outputId": "ed893d6e-32ea-4e0b-cd19-0130005aa34c"
      },
      "execution_count": 36,
      "outputs": [
        {
          "output_type": "stream",
          "name": "stdout",
          "text": [
            "Park\n",
            "Park\n"
          ]
        }
      ]
    },
    {
      "cell_type": "code",
      "source": [
        "print(id(a.lastname)) # all located in same memory, so the value changes \n",
        "print(id(b.lastname))\n",
        "print(id(Family.lastname))"
      ],
      "metadata": {
        "colab": {
          "base_uri": "https://localhost:8080/"
        },
        "id": "gdjH3mHx2ztY",
        "outputId": "6b9477a5-ab2a-4550-86ec-bfed06fc8697"
      },
      "execution_count": 37,
      "outputs": [
        {
          "output_type": "stream",
          "name": "stdout",
          "text": [
            "139935462169264\n",
            "139935462169264\n",
            "139935462169264\n"
          ]
        }
      ]
    }
  ]
}