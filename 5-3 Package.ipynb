{
  "nbformat": 4,
  "nbformat_minor": 0,
  "metadata": {
    "colab": {
      "provenance": []
    },
    "kernelspec": {
      "name": "python3",
      "display_name": "Python 3"
    },
    "language_info": {
      "name": "python"
    }
  },
  "cells": [
    {
      "cell_type": "code",
      "execution_count": null,
      "metadata": {
        "id": "AMzNezu99_Ca"
      },
      "outputs": [],
      "source": [
        "# game/\n",
        "#     __init__.py\n",
        "#     sound/\n",
        "#         __init__.py\n",
        "#         echo.py\n",
        "#         wav.py\n",
        "#     graphic/\n",
        "#         __init__.py\n",
        "#         screen.py\n",
        "#         render.py\n",
        "#     play/\n",
        "#         __init__.py\n",
        "#         run.py\n",
        "#         test.py"
      ]
    },
    {
      "cell_type": "code",
      "source": [
        "# use . to manage hierarchical structure"
      ],
      "metadata": {
        "id": "NDZG-rP8B0MT"
      },
      "execution_count": null,
      "outputs": []
    },
    {
      "cell_type": "code",
      "source": [
        "# # echo.py\n",
        "\n",
        "# def echo_test():\n",
        "#   print(\"echo\")"
      ],
      "metadata": {
        "id": "m5bry9WdBtHC"
      },
      "execution_count": null,
      "outputs": []
    },
    {
      "cell_type": "code",
      "source": [
        "# # render.py\n",
        "# def render_test():\n",
        "#   print(\"render\")"
      ],
      "metadata": {
        "id": "v-36kSVGASBH"
      },
      "execution_count": null,
      "outputs": []
    },
    {
      "cell_type": "code",
      "source": [
        "# Method 1\n",
        "# import game.sound.echo\n",
        "# game.sound.echo.echo_test()"
      ],
      "metadata": {
        "id": "tl_v6OPTBPMQ"
      },
      "execution_count": null,
      "outputs": []
    },
    {
      "cell_type": "code",
      "source": [
        "# Method 2\n",
        "# from game.sound import echo\n",
        "# echo.echo_test()"
      ],
      "metadata": {
        "id": "Xqml8bt-CGNO"
      },
      "execution_count": null,
      "outputs": []
    },
    {
      "cell_type": "code",
      "source": [
        "# Method 3\n",
        "# from game.sound.echo import echo_test\n",
        "# echo_test()"
      ],
      "metadata": {
        "id": "7rYA3OlMCGXU"
      },
      "execution_count": null,
      "outputs": []
    },
    {
      "cell_type": "code",
      "source": [
        "# purpose of __init__.py\n",
        "# show that specific directory is part of package"
      ],
      "metadata": {
        "id": "Te3ZHiChCGa8"
      },
      "execution_count": null,
      "outputs": []
    },
    {
      "cell_type": "code",
      "source": [
        "# # /game/sound/__init__.py\n",
        "# __all__ = ['echo']"
      ],
      "metadata": {
        "id": "aE2IeG9JCGeU"
      },
      "execution_count": null,
      "outputs": []
    },
    {
      "cell_type": "code",
      "source": [
        "# from game.sound import *\n",
        "# echo.echo_test()"
      ],
      "metadata": {
        "id": "UaopxYcWCGh6"
      },
      "execution_count": null,
      "outputs": []
    },
    {
      "cell_type": "code",
      "source": [
        "# # /game/graphic/__init__.py\n",
        "# __all__ = ['render']\n",
        "\n",
        "# from game.graphic import *\n",
        "# render.render_test()"
      ],
      "metadata": {
        "id": "pfATGMNSCGlR"
      },
      "execution_count": null,
      "outputs": []
    },
    {
      "cell_type": "code",
      "source": [
        "# Method 1\n",
        "# # render.py\n",
        "# from game.sound.echo import echo_test\n",
        "\n",
        "# def render_test():\n",
        "#   print(\"render\")\n",
        "#   echo_test()"
      ],
      "metadata": {
        "id": "Rd1vxK8pCGpA"
      },
      "execution_count": null,
      "outputs": []
    },
    {
      "cell_type": "code",
      "source": [
        "# from game.graphic.render import render_test\n",
        "# render_test()"
      ],
      "metadata": {
        "id": "FWXiQu8QCGsC"
      },
      "execution_count": null,
      "outputs": []
    },
    {
      "cell_type": "code",
      "source": [
        "# Method 2\n",
        "# # render.py\n",
        "# from ..sound.echo import echo_test\n",
        "\n",
        "# def render_test():\n",
        "#   print(\"render\")\n",
        "#   echo_test()"
      ],
      "metadata": {
        "id": "O_I3ER-kEXe3"
      },
      "execution_count": null,
      "outputs": []
    }
  ]
}